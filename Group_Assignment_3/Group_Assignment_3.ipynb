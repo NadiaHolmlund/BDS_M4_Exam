{
  "cells": [
    {
      "cell_type": "markdown",
      "metadata": {
        "id": "view-in-github",
        "colab_type": "text"
      },
      "source": [
        "<a href=\"https://colab.research.google.com/github/Korsholm22/M4_Group_Assignments/blob/main/Group_Assignment_3/Group_Assignment_3.ipynb\" target=\"_parent\"><img src=\"https://colab.research.google.com/assets/colab-badge.svg\" alt=\"Open In Colab\"/></a>"
      ]
    },
    {
      "cell_type": "markdown",
      "metadata": {
        "id": "9JFBSwhPlulR"
      },
      "source": [
        "# Imports"
      ]
    },
    {
      "cell_type": "code",
      "execution_count": 3,
      "metadata": {
        "id": "obJMbhcollPD"
      },
      "outputs": [],
      "source": [
        "# Pip installs\n",
        "!pip install sentence-transformers -q\n",
        "!pip install gradio -q"
      ]
    },
    {
      "cell_type": "code",
      "execution_count": 4,
      "metadata": {
        "id": "a97SndYwlm7e"
      },
      "outputs": [],
      "source": [
        "# Imports\n",
        "import pandas as pd\n",
        "import numpy as np\n",
        "from sentence_transformers import SentenceTransformer, util\n",
        "import torch\n",
        "from sentence_transformers.util import cos_sim\n",
        "import gradio as gr\n",
        "from tqdm import tqdm\n",
        "\n",
        "model = SentenceTransformer('bert-base-nli-mean-tokens')"
      ]
    },
    {
      "cell_type": "code",
      "execution_count": 5,
      "metadata": {
        "id": "xmmQC9kDlos0"
      },
      "outputs": [],
      "source": [
        "# Importing the dataset\n",
        "df_netflix = pd.read_csv('https://raw.githubusercontent.com/Korsholm22/M4_Group_Assignments/main/Group_Assignment_3/Data/netflix_titles.csv')"
      ]
    },
    {
      "cell_type": "code",
      "execution_count": 6,
      "metadata": {
        "colab": {
          "base_uri": "https://localhost:8080/",
          "height": 676
        },
        "id": "t9k0f2rml6ka",
        "outputId": "7882c310-f164-4f95-8a3e-ccd8e98190ea"
      },
      "outputs": [
        {
          "output_type": "execute_result",
          "data": {
            "text/plain": [
              "  show_id     type                  title         director  \\\n",
              "0      s1    Movie   Dick Johnson Is Dead  Kirsten Johnson   \n",
              "1      s2  TV Show          Blood & Water              NaN   \n",
              "2      s3  TV Show              Ganglands  Julien Leclercq   \n",
              "3      s4  TV Show  Jailbirds New Orleans              NaN   \n",
              "4      s5  TV Show           Kota Factory              NaN   \n",
              "\n",
              "                                                cast        country  \\\n",
              "0                                                NaN  United States   \n",
              "1  Ama Qamata, Khosi Ngema, Gail Mabalane, Thaban...   South Africa   \n",
              "2  Sami Bouajila, Tracy Gotoas, Samuel Jouy, Nabi...            NaN   \n",
              "3                                                NaN            NaN   \n",
              "4  Mayur More, Jitendra Kumar, Ranjan Raj, Alam K...          India   \n",
              "\n",
              "           date_added  release_year rating   duration  \\\n",
              "0  September 25, 2021          2020  PG-13     90 min   \n",
              "1  September 24, 2021          2021  TV-MA  2 Seasons   \n",
              "2  September 24, 2021          2021  TV-MA   1 Season   \n",
              "3  September 24, 2021          2021  TV-MA   1 Season   \n",
              "4  September 24, 2021          2021  TV-MA  2 Seasons   \n",
              "\n",
              "                                           listed_in  \\\n",
              "0                                      Documentaries   \n",
              "1    International TV Shows, TV Dramas, TV Mysteries   \n",
              "2  Crime TV Shows, International TV Shows, TV Act...   \n",
              "3                             Docuseries, Reality TV   \n",
              "4  International TV Shows, Romantic TV Shows, TV ...   \n",
              "\n",
              "                                         description  \n",
              "0  As her father nears the end of his life, filmm...  \n",
              "1  After crossing paths at a party, a Cape Town t...  \n",
              "2  To protect his family from a powerful drug lor...  \n",
              "3  Feuds, flirtations and toilet talk go down amo...  \n",
              "4  In a city of coaching centers known to train I...  "
            ],
            "text/html": [
              "\n",
              "  <div id=\"df-0cddb06f-c232-402a-a71c-638e917edffc\">\n",
              "    <div class=\"colab-df-container\">\n",
              "      <div>\n",
              "<style scoped>\n",
              "    .dataframe tbody tr th:only-of-type {\n",
              "        vertical-align: middle;\n",
              "    }\n",
              "\n",
              "    .dataframe tbody tr th {\n",
              "        vertical-align: top;\n",
              "    }\n",
              "\n",
              "    .dataframe thead th {\n",
              "        text-align: right;\n",
              "    }\n",
              "</style>\n",
              "<table border=\"1\" class=\"dataframe\">\n",
              "  <thead>\n",
              "    <tr style=\"text-align: right;\">\n",
              "      <th></th>\n",
              "      <th>show_id</th>\n",
              "      <th>type</th>\n",
              "      <th>title</th>\n",
              "      <th>director</th>\n",
              "      <th>cast</th>\n",
              "      <th>country</th>\n",
              "      <th>date_added</th>\n",
              "      <th>release_year</th>\n",
              "      <th>rating</th>\n",
              "      <th>duration</th>\n",
              "      <th>listed_in</th>\n",
              "      <th>description</th>\n",
              "    </tr>\n",
              "  </thead>\n",
              "  <tbody>\n",
              "    <tr>\n",
              "      <th>0</th>\n",
              "      <td>s1</td>\n",
              "      <td>Movie</td>\n",
              "      <td>Dick Johnson Is Dead</td>\n",
              "      <td>Kirsten Johnson</td>\n",
              "      <td>NaN</td>\n",
              "      <td>United States</td>\n",
              "      <td>September 25, 2021</td>\n",
              "      <td>2020</td>\n",
              "      <td>PG-13</td>\n",
              "      <td>90 min</td>\n",
              "      <td>Documentaries</td>\n",
              "      <td>As her father nears the end of his life, filmm...</td>\n",
              "    </tr>\n",
              "    <tr>\n",
              "      <th>1</th>\n",
              "      <td>s2</td>\n",
              "      <td>TV Show</td>\n",
              "      <td>Blood &amp; Water</td>\n",
              "      <td>NaN</td>\n",
              "      <td>Ama Qamata, Khosi Ngema, Gail Mabalane, Thaban...</td>\n",
              "      <td>South Africa</td>\n",
              "      <td>September 24, 2021</td>\n",
              "      <td>2021</td>\n",
              "      <td>TV-MA</td>\n",
              "      <td>2 Seasons</td>\n",
              "      <td>International TV Shows, TV Dramas, TV Mysteries</td>\n",
              "      <td>After crossing paths at a party, a Cape Town t...</td>\n",
              "    </tr>\n",
              "    <tr>\n",
              "      <th>2</th>\n",
              "      <td>s3</td>\n",
              "      <td>TV Show</td>\n",
              "      <td>Ganglands</td>\n",
              "      <td>Julien Leclercq</td>\n",
              "      <td>Sami Bouajila, Tracy Gotoas, Samuel Jouy, Nabi...</td>\n",
              "      <td>NaN</td>\n",
              "      <td>September 24, 2021</td>\n",
              "      <td>2021</td>\n",
              "      <td>TV-MA</td>\n",
              "      <td>1 Season</td>\n",
              "      <td>Crime TV Shows, International TV Shows, TV Act...</td>\n",
              "      <td>To protect his family from a powerful drug lor...</td>\n",
              "    </tr>\n",
              "    <tr>\n",
              "      <th>3</th>\n",
              "      <td>s4</td>\n",
              "      <td>TV Show</td>\n",
              "      <td>Jailbirds New Orleans</td>\n",
              "      <td>NaN</td>\n",
              "      <td>NaN</td>\n",
              "      <td>NaN</td>\n",
              "      <td>September 24, 2021</td>\n",
              "      <td>2021</td>\n",
              "      <td>TV-MA</td>\n",
              "      <td>1 Season</td>\n",
              "      <td>Docuseries, Reality TV</td>\n",
              "      <td>Feuds, flirtations and toilet talk go down amo...</td>\n",
              "    </tr>\n",
              "    <tr>\n",
              "      <th>4</th>\n",
              "      <td>s5</td>\n",
              "      <td>TV Show</td>\n",
              "      <td>Kota Factory</td>\n",
              "      <td>NaN</td>\n",
              "      <td>Mayur More, Jitendra Kumar, Ranjan Raj, Alam K...</td>\n",
              "      <td>India</td>\n",
              "      <td>September 24, 2021</td>\n",
              "      <td>2021</td>\n",
              "      <td>TV-MA</td>\n",
              "      <td>2 Seasons</td>\n",
              "      <td>International TV Shows, Romantic TV Shows, TV ...</td>\n",
              "      <td>In a city of coaching centers known to train I...</td>\n",
              "    </tr>\n",
              "  </tbody>\n",
              "</table>\n",
              "</div>\n",
              "      <button class=\"colab-df-convert\" onclick=\"convertToInteractive('df-0cddb06f-c232-402a-a71c-638e917edffc')\"\n",
              "              title=\"Convert this dataframe to an interactive table.\"\n",
              "              style=\"display:none;\">\n",
              "        \n",
              "  <svg xmlns=\"http://www.w3.org/2000/svg\" height=\"24px\"viewBox=\"0 0 24 24\"\n",
              "       width=\"24px\">\n",
              "    <path d=\"M0 0h24v24H0V0z\" fill=\"none\"/>\n",
              "    <path d=\"M18.56 5.44l.94 2.06.94-2.06 2.06-.94-2.06-.94-.94-2.06-.94 2.06-2.06.94zm-11 1L8.5 8.5l.94-2.06 2.06-.94-2.06-.94L8.5 2.5l-.94 2.06-2.06.94zm10 10l.94 2.06.94-2.06 2.06-.94-2.06-.94-.94-2.06-.94 2.06-2.06.94z\"/><path d=\"M17.41 7.96l-1.37-1.37c-.4-.4-.92-.59-1.43-.59-.52 0-1.04.2-1.43.59L10.3 9.45l-7.72 7.72c-.78.78-.78 2.05 0 2.83L4 21.41c.39.39.9.59 1.41.59.51 0 1.02-.2 1.41-.59l7.78-7.78 2.81-2.81c.8-.78.8-2.07 0-2.86zM5.41 20L4 18.59l7.72-7.72 1.47 1.35L5.41 20z\"/>\n",
              "  </svg>\n",
              "      </button>\n",
              "      \n",
              "  <style>\n",
              "    .colab-df-container {\n",
              "      display:flex;\n",
              "      flex-wrap:wrap;\n",
              "      gap: 12px;\n",
              "    }\n",
              "\n",
              "    .colab-df-convert {\n",
              "      background-color: #E8F0FE;\n",
              "      border: none;\n",
              "      border-radius: 50%;\n",
              "      cursor: pointer;\n",
              "      display: none;\n",
              "      fill: #1967D2;\n",
              "      height: 32px;\n",
              "      padding: 0 0 0 0;\n",
              "      width: 32px;\n",
              "    }\n",
              "\n",
              "    .colab-df-convert:hover {\n",
              "      background-color: #E2EBFA;\n",
              "      box-shadow: 0px 1px 2px rgba(60, 64, 67, 0.3), 0px 1px 3px 1px rgba(60, 64, 67, 0.15);\n",
              "      fill: #174EA6;\n",
              "    }\n",
              "\n",
              "    [theme=dark] .colab-df-convert {\n",
              "      background-color: #3B4455;\n",
              "      fill: #D2E3FC;\n",
              "    }\n",
              "\n",
              "    [theme=dark] .colab-df-convert:hover {\n",
              "      background-color: #434B5C;\n",
              "      box-shadow: 0px 1px 3px 1px rgba(0, 0, 0, 0.15);\n",
              "      filter: drop-shadow(0px 1px 2px rgba(0, 0, 0, 0.3));\n",
              "      fill: #FFFFFF;\n",
              "    }\n",
              "  </style>\n",
              "\n",
              "      <script>\n",
              "        const buttonEl =\n",
              "          document.querySelector('#df-0cddb06f-c232-402a-a71c-638e917edffc button.colab-df-convert');\n",
              "        buttonEl.style.display =\n",
              "          google.colab.kernel.accessAllowed ? 'block' : 'none';\n",
              "\n",
              "        async function convertToInteractive(key) {\n",
              "          const element = document.querySelector('#df-0cddb06f-c232-402a-a71c-638e917edffc');\n",
              "          const dataTable =\n",
              "            await google.colab.kernel.invokeFunction('convertToInteractive',\n",
              "                                                     [key], {});\n",
              "          if (!dataTable) return;\n",
              "\n",
              "          const docLinkHtml = 'Like what you see? Visit the ' +\n",
              "            '<a target=\"_blank\" href=https://colab.research.google.com/notebooks/data_table.ipynb>data table notebook</a>'\n",
              "            + ' to learn more about interactive tables.';\n",
              "          element.innerHTML = '';\n",
              "          dataTable['output_type'] = 'display_data';\n",
              "          await google.colab.output.renderOutput(dataTable, element);\n",
              "          const docLink = document.createElement('div');\n",
              "          docLink.innerHTML = docLinkHtml;\n",
              "          element.appendChild(docLink);\n",
              "        }\n",
              "      </script>\n",
              "    </div>\n",
              "  </div>\n",
              "  "
            ]
          },
          "metadata": {},
          "execution_count": 6
        }
      ],
      "source": [
        "# Examining the dataset\n",
        "df_netflix.head()"
      ]
    },
    {
      "cell_type": "markdown",
      "metadata": {
        "id": "_nf1Nns85vyM"
      },
      "source": [
        "# Preprocessing and Feature Engineering"
      ]
    },
    {
      "cell_type": "code",
      "execution_count": 7,
      "metadata": {
        "colab": {
          "base_uri": "https://localhost:8080/"
        },
        "id": "FpIvzQUS7xyp",
        "outputId": "9adb74c2-8f66-44d9-bf9f-275507c57fdb"
      },
      "outputs": [
        {
          "output_type": "execute_result",
          "data": {
            "text/plain": [
              "show_id            0\n",
              "type               0\n",
              "title              0\n",
              "director        2634\n",
              "cast             825\n",
              "country          831\n",
              "date_added        10\n",
              "release_year       0\n",
              "rating             4\n",
              "duration           3\n",
              "listed_in          0\n",
              "description        0\n",
              "dtype: int64"
            ]
          },
          "metadata": {},
          "execution_count": 7
        }
      ],
      "source": [
        "# Checking the dataset for NaN values\n",
        "df_netflix.isna().sum()"
      ]
    },
    {
      "cell_type": "code",
      "execution_count": 8,
      "metadata": {
        "colab": {
          "base_uri": "https://localhost:8080/",
          "height": 54
        },
        "id": "oIyplkIj3V1s",
        "outputId": "f0d0601c-ec05-47f6-bc2a-0c43b9a8f891"
      },
      "outputs": [
        {
          "output_type": "execute_result",
          "data": {
            "text/plain": [
              "'Blood & Water. International TV Shows, TV Dramas, TV Mysteries. After crossing paths at a party, a Cape Town teen sets out to prove whether a private-school swimming star is her sister who was abducted at birth.'"
            ],
            "application/vnd.google.colaboratory.intrinsic+json": {
              "type": "string"
            }
          },
          "metadata": {},
          "execution_count": 8
        }
      ],
      "source": [
        "# Merging title, listed_in and description into one column to include more information in the semantic search\n",
        "df_netflix['information'] = df_netflix['listed_in'].str.cat(df_netflix['description'], sep =\". \")\n",
        "df_netflix['information'] = df_netflix['title'].str.cat(df_netflix['information'], sep =\". \")\n",
        "\n",
        "# Checking if the merge is succesfull\n",
        "df_netflix['information'][1]"
      ]
    },
    {
      "cell_type": "code",
      "execution_count": 9,
      "metadata": {
        "id": "M1ylpsEkt6SW"
      },
      "outputs": [],
      "source": [
        "# Creating 5 search examples to examine performance of the model\n",
        "search_examples = [\"Action movie taking place in space\",\n",
        "                    \"Sad movie where the dog dies\",  \n",
        "                    \"Documentray about turtles and plastic straws\",       \n",
        "                    \"Funny movie with Kevin Hart and the Rock\",    \n",
        "                    \"Dramatic true crime story\"]"
      ]
    },
    {
      "cell_type": "code",
      "execution_count": 10,
      "metadata": {
        "colab": {
          "base_uri": "https://localhost:8080/"
        },
        "id": "EfESvKYWuQGm",
        "outputId": "d1bec42a-797d-45fa-d06c-dc3404f87cc6"
      },
      "outputs": [
        {
          "output_type": "execute_result",
          "data": {
            "text/plain": [
              "(5, 768)"
            ]
          },
          "metadata": {},
          "execution_count": 10
        }
      ],
      "source": [
        "# Embedding the search examples\n",
        "embeddings = model.encode(search_examples)\n",
        "\n",
        "embeddings.shape"
      ]
    },
    {
      "cell_type": "code",
      "execution_count": 11,
      "metadata": {
        "id": "Qhi9EQoXuVgM"
      },
      "outputs": [],
      "source": [
        "# Converting the column show_information to a list\n",
        "show_information = df_netflix['information'].values.tolist()"
      ]
    },
    {
      "cell_type": "code",
      "execution_count": 12,
      "metadata": {
        "colab": {
          "base_uri": "https://localhost:8080/"
        },
        "id": "5N1QkFfquiRU",
        "outputId": "031e841d-f9b2-4a47-b465-1b8f2b86172b"
      },
      "outputs": [
        {
          "output_type": "execute_result",
          "data": {
            "text/plain": [
              "['Dick Johnson Is Dead. Documentaries. As her father nears the end of his life, filmmaker Kirsten Johnson stages his death in inventive and comical ways to help them both face the inevitable.',\n",
              " 'Blood & Water. International TV Shows, TV Dramas, TV Mysteries. After crossing paths at a party, a Cape Town teen sets out to prove whether a private-school swimming star is her sister who was abducted at birth.',\n",
              " 'Ganglands. Crime TV Shows, International TV Shows, TV Action & Adventure. To protect his family from a powerful drug lord, skilled thief Mehdi and his expert team of robbers are pulled into a violent and deadly turf war.',\n",
              " 'Jailbirds New Orleans. Docuseries, Reality TV. Feuds, flirtations and toilet talk go down among the incarcerated women at the Orleans Justice Center in New Orleans on this gritty reality series.',\n",
              " 'Kota Factory. International TV Shows, Romantic TV Shows, TV Comedies. In a city of coaching centers known to train India’s finest collegiate minds, an earnest but unexceptional student and his friends navigate campus life.']"
            ]
          },
          "metadata": {},
          "execution_count": 12
        }
      ],
      "source": [
        "# Checking that the conversion is succesfull\n",
        "show_information[0:5]"
      ]
    },
    {
      "cell_type": "code",
      "source": [
        "corpus_embeddings = model.encode(show_information, convert_to_tensor=True)"
      ],
      "metadata": {
        "id": "z9jW63f7-kVN"
      },
      "execution_count": 13,
      "outputs": []
    },
    {
      "cell_type": "markdown",
      "metadata": {
        "id": "7eWHxDoOxxmT"
      },
      "source": [
        "# Modelling"
      ]
    },
    {
      "cell_type": "code",
      "execution_count": 14,
      "metadata": {
        "colab": {
          "base_uri": "https://localhost:8080/"
        },
        "id": "7eqT4cwAujTT",
        "outputId": "f21eaa32-4229-4037-c19a-a6d21ce5e9ce"
      },
      "outputs": [
        {
          "output_type": "stream",
          "name": "stdout",
          "text": [
            "\n",
            "\n",
            "======================\n",
            "\n",
            "\n",
            "Query: Action movie taking place in space\n",
            "\n",
            "Top 5 most similar sentences in corpus:\n",
            "Star Trek: Deep Space Nine. TV Action & Adventure, TV Sci-Fi & Fantasy. In this \"Star Trek\" spin-off, Commander Sisko leads the multi-species crew of Deep Space Nine, a Federation space station with a complex mission. (Score: 0.7565)\n",
            "Nova: Ultimate Mars Challenge. Movies. With access to the scientists and engineers responsible for the Curiosity rover's on-the-ground experiments, NOVA captures its landing on Mars. (Score: 0.7558)\n",
            "The Search for Life in Space. Documentaries. To determine whether we're alone in the universe, astrobiologists look to Jupiter, Mars and, closer to home, extreme environments on Earth. (Score: 0.7439)\n",
            "Mobile Suit Gundam III: Encounters in Space. Action & Adventure, Anime Features, International Movies. The Earth Federation prepares to take the war into the Duchy of Zeon's home territory. Veteran pilot Amuro Ray returns to space for the final battle. (Score: 0.7385)\n",
            "A Year In Space. Docuseries, International TV Shows, Science & Nature TV. Two astronauts attempt to brave a life in Earth's orbit on a record-setting mission to see if humans have the endurance to survive a flight to Mars. (Score: 0.7381)\n",
            "\n",
            "\n",
            "======================\n",
            "\n",
            "\n",
            "Query: Sad movie where the dog dies\n",
            "\n",
            "Top 5 most similar sentences in corpus:\n",
            "Dick Johnson Is Dead. Documentaries. As her father nears the end of his life, filmmaker Kirsten Johnson stages his death in inventive and comical ways to help them both face the inevitable. (Score: 0.7143)\n",
            "Paint It Black. Dramas. In the wake of a young artist’s suicide, his pianist mother and his despairing girlfriend square off in a living nightmare beset by guilt and blame. (Score: 0.6934)\n",
            "Splatter. Horror Movies. After committing suicide, a washed-up rocker returns from the grave to torment the five people who betrayed him in life. (Score: 0.6920)\n",
            "The Memory of Water. Dramas, International Movies. When the accidental death of a couple's young son sends them grieving in opposite directions, they're forced to re-examine their life and marriage. (Score: 0.6883)\n",
            "The Wind. Horror Movies. Isolated on a wind-ravaged 19th-century homestead, a frontierswoman begins to suspect that evil lurks in the terrifying emptiness all around her. (Score: 0.6879)\n",
            "\n",
            "\n",
            "======================\n",
            "\n",
            "\n",
            "Query: Documentray about turtles and plastic straws\n",
            "\n",
            "Top 5 most similar sentences in corpus:\n",
            "Fishpeople. Documentaries, Sports Movies. In this exploration of the life-changing power of the ocean, six people from very different backgrounds find purpose and meaning in the sea. (Score: 0.5191)\n",
            "Cultivating the Seas: History and Future of the Full-Cycle Cultured Kindai Tuna. Documentaries, International Movies. An in-depth look at the full-cycle breeding program for bluefin Kindai tuna pioneered by Kinki University’s Aqua Culture Research Institute. (Score: 0.5087)\n",
            "Sammy & Co. Kids' TV, TV Comedies. In an underwater village bordering a tropical island, two young turtles and their pals keep their home safe and enjoy adventures in the big, wild sea. (Score: 0.4956)\n",
            "Motu Patlu in Octupus World. Children & Family Movies, Comedies. While returning a goldfish and an octopus from an aquarium to the sea, Motu and Patlu must also save the goldfish’s family from a mean, tentacled queen. (Score: 0.4927)\n",
            "H2O: Just Add Water. Kids' TV, TV Dramas. The gals in this fantasy series cope with the burden of growing a giant fin and transforming into mermaids whenever they come in contact with water. (Score: 0.4846)\n",
            "\n",
            "\n",
            "======================\n",
            "\n",
            "\n",
            "Query: Funny movie with Kevin Hart and the Rock\n",
            "\n",
            "Top 5 most similar sentences in corpus:\n",
            "Natural Born Pranksters. Comedies. The biggest pranksters on YouTube – VitalyzdTV, Dennis Roady and Roman Atwood – turn Hollywood into \"Prankwood\" with their most over-the-top stunts. (Score: 0.6705)\n",
            "Scary Movie. Comedies, Horror Movies. The Wayans brothers spoof some of Hollywood's biggest blockbusters, including Scream, I Know What You Did Last Summer, The Matrix and American Pie. (Score: 0.6635)\n",
            "Paheli. Dramas, International Movies, Romantic Movies. Traditional Indian folklore comes alive in this charming film based on a story by Statwart Vijaydan Detha. (Score: 0.6626)\n",
            "Ne Zha. Action & Adventure, Comedies, International Movies. Bound by a divine mandate, rebellious outcast Ne Zha grapples with his formidable powers and a destiny that would imperil his loved ones. (Score: 0.6490)\n",
            "Documentary Now!. TV Comedies. Elevating the art of parody, this sharply comic series spoofs high-profile documentaries such as \"Grey Gardens\" and \"The Thin Blue Line.\" (Score: 0.6371)\n",
            "\n",
            "\n",
            "======================\n",
            "\n",
            "\n",
            "Query: Dramatic true crime story\n",
            "\n",
            "Top 5 most similar sentences in corpus:\n",
            "Unsolved Mysteries. Crime TV Shows, Docuseries. Real cases of perplexing disappearances, shocking murders and paranormal encounters fuel this gripping revival of the iconic documentary series. (Score: 0.7143)\n",
            "Lo que la verdad esconde: El caso Asunta (Operacion Nenúfar). Crime TV Shows, Docuseries, International TV Shows. This true crime series investigates newfound evidence and unanswered questions in famous criminal cases, such as the murder of Asunta Basterra Porto. (Score: 0.7107)\n",
            "Trial By Media. Crime TV Shows, Docuseries. In this true crime docuseries, some of the most dramatic trials of all time are examined with an emphasis on how the media may have impacted verdicts. (Score: 0.7036)\n",
            "Jack Taylor. Crime TV Shows, International TV Shows, TV Dramas. Ken Bruen's bestselling crime novels leap to life in this series of TV movies featuring Irish cop-turned-private-investigator Jack Taylor. (Score: 0.6955)\n",
            "Khan: No. 1 Crime Hunter. Crime TV Shows, International TV Shows, TV Comedies. From fake marriages to online shopping fraud, a whip-smart police officer investigates truly baffling cons that were inspired by true stories. (Score: 0.6850)\n"
          ]
        }
      ],
      "source": [
        "# Find the closest 5 sentences of the corpus for each query sentence based on cosine similarity\n",
        "top_k = min(5, len(show_information))\n",
        "for query in search_examples:\n",
        "    query_embedding = model.encode(query, convert_to_tensor=True)\n",
        "\n",
        "    # We use cosine-similarity and torch.topk to find the highest 5 scores\n",
        "    cos_scores = util.cos_sim(query_embedding, corpus_embeddings)[0]\n",
        "    top_results = torch.topk(cos_scores, k=top_k)\n",
        "\n",
        "    print(\"\\n\\n======================\\n\\n\")\n",
        "    print(\"Query:\", query)\n",
        "    print(\"\\nTop 5 most similar sentences in corpus:\")\n",
        "\n",
        "    for score, idx in zip(top_results[0], top_results[1]):\n",
        "        print(show_information[idx], \"(Score: {:.4f})\".format(score))"
      ]
    },
    {
      "cell_type": "code",
      "execution_count": 15,
      "metadata": {
        "id": "2KkSJfCfM_vW"
      },
      "outputs": [],
      "source": [
        "# Converting columns from the dataset to lists to be used as output in the semantic search function\n",
        "title = df_netflix['title'].values.tolist()\n",
        "description = df_netflix['description'].values.tolist()"
      ]
    },
    {
      "cell_type": "code",
      "execution_count": 16,
      "metadata": {
        "id": "eDSb8iVYMe1L"
      },
      "outputs": [],
      "source": [
        "# Defining the semantic search function to return Title, description and cosinus score\n",
        "def query_corpus(query):\n",
        "  results = []\n",
        "  query_embedding = model.encode(query, convert_to_tensor=True)\n",
        "  cos_scores = util.cos_sim(query_embedding, corpus_embeddings)[0]\n",
        "  top_results = torch.topk(cos_scores, k=top_k)\n",
        "\n",
        "  for score, idx in zip(top_results[0], top_results[1]):\n",
        "    results.append(\n",
        "        (title[idx], \n",
        "         description[idx],\n",
        "         score))\n",
        "    Title = \"Title: \" + results[0][0]\n",
        "    desc = \"Description: \" + results[0][1]\n",
        "    score = \"Cosinus Score: \" + str(results[0][2].numpy())  \n",
        "  return Title, desc, score"
      ]
    },
    {
      "cell_type": "code",
      "execution_count": 23,
      "metadata": {
        "colab": {
          "base_uri": "https://localhost:8080/"
        },
        "id": "bsOiAZ5UMndN",
        "outputId": "b56a3ca3-b963-4cfd-8344-122c34221cc6"
      },
      "outputs": [
        {
          "output_type": "execute_result",
          "data": {
            "text/plain": [
              "('Title: Inside the Mind of a Serial Killer',\n",
              " \"Description: Mixing dramatic re-enactments with real-life footage, this series delves into the tormented psyches of the world's most infamous serial killers.\",\n",
              " 'Cosinus Score: 0.882298')"
            ]
          },
          "metadata": {},
          "execution_count": 23
        }
      ],
      "source": [
        "# Testing a search term to examine the performance of the model\n",
        "query_corpus('True crime tv show about brutal murderers')"
      ]
    },
    {
      "cell_type": "code",
      "source": [
        "# Testing a search term to examine the performance of the model\n",
        "query_corpus('Happy story about dogs, that will make me stop crying')"
      ],
      "metadata": {
        "id": "seMqcPOPdT_q",
        "outputId": "d23fe6f2-099d-4fae-e10e-20ea56e0aab8",
        "colab": {
          "base_uri": "https://localhost:8080/"
        }
      },
      "execution_count": 28,
      "outputs": [
        {
          "output_type": "execute_result",
          "data": {
            "text/plain": [
              "('Title: Pup Star',\n",
              " \"Description: After a singing pup with big dreams of stardom gets dognapped and escapes with a friend's help, her journey home is a fun, music-filled adventure.\",\n",
              " 'Cosinus Score: 0.6289302')"
            ]
          },
          "metadata": {},
          "execution_count": 28
        }
      ]
    },
    {
      "cell_type": "markdown",
      "metadata": {
        "id": "t-_sACCoxxmU"
      },
      "source": [
        "# Gradio"
      ]
    },
    {
      "cell_type": "code",
      "execution_count": 24,
      "metadata": {
        "colab": {
          "base_uri": "https://localhost:8080/",
          "height": 614
        },
        "id": "AlLYZRvAu0li",
        "outputId": "42048019-9aa5-4e20-8329-51a9b1a4a252"
      },
      "outputs": [
        {
          "output_type": "stream",
          "name": "stdout",
          "text": [
            "Colab notebook detected. To show errors in colab notebook, set debug=True in launch()\n",
            "Note: opening Chrome Inspector may crash demo inside Colab notebooks.\n",
            "\n",
            "To create a public link, set `share=True` in `launch()`.\n"
          ]
        },
        {
          "output_type": "display_data",
          "data": {
            "text/plain": [
              "<IPython.core.display.Javascript object>"
            ],
            "application/javascript": [
              "(async (port, path, width, height, cache, element) => {\n",
              "                        if (!google.colab.kernel.accessAllowed && !cache) {\n",
              "                            return;\n",
              "                        }\n",
              "                        element.appendChild(document.createTextNode(''));\n",
              "                        const url = await google.colab.kernel.proxyPort(port, {cache});\n",
              "\n",
              "                        const external_link = document.createElement('div');\n",
              "                        external_link.innerHTML = `\n",
              "                            <div style=\"font-family: monospace; margin-bottom: 0.5rem\">\n",
              "                                Running on <a href=${new URL(path, url).toString()} target=\"_blank\">\n",
              "                                    https://localhost:${port}${path}\n",
              "                                </a>\n",
              "                            </div>\n",
              "                        `;\n",
              "                        element.appendChild(external_link);\n",
              "\n",
              "                        const iframe = document.createElement('iframe');\n",
              "                        iframe.src = new URL(path, url).toString();\n",
              "                        iframe.height = height;\n",
              "                        iframe.allow = \"autoplay; camera; microphone; clipboard-read; clipboard-write;\"\n",
              "                        iframe.width = width;\n",
              "                        iframe.style.border = 0;\n",
              "                        element.appendChild(iframe);\n",
              "                    })(7860, \"/\", \"100%\", 500, false, window.element)"
            ]
          },
          "metadata": {}
        },
        {
          "output_type": "execute_result",
          "data": {
            "text/plain": []
          },
          "metadata": {},
          "execution_count": 24
        }
      ],
      "source": [
        "# Setting up gradio\n",
        "\n",
        "gr.Interface(fn=query_corpus, inputs=[\"text\"], outputs=[\"text\", \"text\", \"label\"]).launch()"
      ]
    }
  ],
  "metadata": {
    "colab": {
      "provenance": [],
      "toc_visible": true,
      "include_colab_link": true
    },
    "kernelspec": {
      "display_name": "base",
      "language": "python",
      "name": "python3"
    },
    "language_info": {
      "name": "python",
      "version": "3.9.12"
    },
    "vscode": {
      "interpreter": {
        "hash": "d23f3ceec305a45481076084313530cecc6283a24046b34365f00383ab0a81b1"
      }
    },
    "gpuClass": "standard"
  },
  "nbformat": 4,
  "nbformat_minor": 0
}