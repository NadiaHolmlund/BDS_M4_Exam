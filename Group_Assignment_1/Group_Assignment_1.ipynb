{
  "nbformat": 4,
  "nbformat_minor": 0,
  "metadata": {
    "colab": {
      "provenance": [],
      "toc_visible": true,
      "authorship_tag": "ABX9TyNzfEHwuJjZzONlmDdQQxXN",
      "include_colab_link": true
    },
    "kernelspec": {
      "name": "python3",
      "display_name": "Python 3"
    },
    "language_info": {
      "name": "python"
    },
    "widgets": {
      "application/vnd.jupyter.widget-state+json": {
        "0ce18b4485474d49be72ddc30a560969": {
          "model_module": "@jupyter-widgets/controls",
          "model_name": "HBoxModel",
          "model_module_version": "1.5.0",
          "state": {
            "_dom_classes": [],
            "_model_module": "@jupyter-widgets/controls",
            "_model_module_version": "1.5.0",
            "_model_name": "HBoxModel",
            "_view_count": null,
            "_view_module": "@jupyter-widgets/controls",
            "_view_module_version": "1.5.0",
            "_view_name": "HBoxView",
            "box_style": "",
            "children": [
              "IPY_MODEL_dd0b01486fb14dddaa8c84f395ee1dff",
              "IPY_MODEL_9afbe7ee372b45fdaeaa34e8ee5400a3",
              "IPY_MODEL_fbee506b893c4761ac450dc1972ee902"
            ],
            "layout": "IPY_MODEL_32acee045011495a866a1f6fa59ffcff"
          }
        },
        "dd0b01486fb14dddaa8c84f395ee1dff": {
          "model_module": "@jupyter-widgets/controls",
          "model_name": "HTMLModel",
          "model_module_version": "1.5.0",
          "state": {
            "_dom_classes": [],
            "_model_module": "@jupyter-widgets/controls",
            "_model_module_version": "1.5.0",
            "_model_name": "HTMLModel",
            "_view_count": null,
            "_view_module": "@jupyter-widgets/controls",
            "_view_module_version": "1.5.0",
            "_view_name": "HTMLView",
            "description": "",
            "description_tooltip": null,
            "layout": "IPY_MODEL_2966ea5ebbcc497bac984d0240a5a3f7",
            "placeholder": "​",
            "style": "IPY_MODEL_d485c466daef445cabc0b438341994d5",
            "value": "100%"
          }
        },
        "9afbe7ee372b45fdaeaa34e8ee5400a3": {
          "model_module": "@jupyter-widgets/controls",
          "model_name": "FloatProgressModel",
          "model_module_version": "1.5.0",
          "state": {
            "_dom_classes": [],
            "_model_module": "@jupyter-widgets/controls",
            "_model_module_version": "1.5.0",
            "_model_name": "FloatProgressModel",
            "_view_count": null,
            "_view_module": "@jupyter-widgets/controls",
            "_view_module_version": "1.5.0",
            "_view_name": "ProgressView",
            "bar_style": "success",
            "description": "",
            "description_tooltip": null,
            "layout": "IPY_MODEL_520a170da8534005a7233be81489a48f",
            "max": 50,
            "min": 0,
            "orientation": "horizontal",
            "style": "IPY_MODEL_6483a53f1183455999c0f7dce5c84133",
            "value": 50
          }
        },
        "fbee506b893c4761ac450dc1972ee902": {
          "model_module": "@jupyter-widgets/controls",
          "model_name": "HTMLModel",
          "model_module_version": "1.5.0",
          "state": {
            "_dom_classes": [],
            "_model_module": "@jupyter-widgets/controls",
            "_model_module_version": "1.5.0",
            "_model_name": "HTMLModel",
            "_view_count": null,
            "_view_module": "@jupyter-widgets/controls",
            "_view_module_version": "1.5.0",
            "_view_name": "HTMLView",
            "description": "",
            "description_tooltip": null,
            "layout": "IPY_MODEL_902ba967ec6143b4879a12e828723011",
            "placeholder": "​",
            "style": "IPY_MODEL_8e9bd7a76634467fb44737f19dcb043e",
            "value": " 50/50 [02:01&lt;00:00,  2.20s/epoch]"
          }
        },
        "32acee045011495a866a1f6fa59ffcff": {
          "model_module": "@jupyter-widgets/base",
          "model_name": "LayoutModel",
          "model_module_version": "1.2.0",
          "state": {
            "_model_module": "@jupyter-widgets/base",
            "_model_module_version": "1.2.0",
            "_model_name": "LayoutModel",
            "_view_count": null,
            "_view_module": "@jupyter-widgets/base",
            "_view_module_version": "1.2.0",
            "_view_name": "LayoutView",
            "align_content": null,
            "align_items": null,
            "align_self": null,
            "border": null,
            "bottom": null,
            "display": null,
            "flex": null,
            "flex_flow": null,
            "grid_area": null,
            "grid_auto_columns": null,
            "grid_auto_flow": null,
            "grid_auto_rows": null,
            "grid_column": null,
            "grid_gap": null,
            "grid_row": null,
            "grid_template_areas": null,
            "grid_template_columns": null,
            "grid_template_rows": null,
            "height": null,
            "justify_content": null,
            "justify_items": null,
            "left": null,
            "margin": null,
            "max_height": null,
            "max_width": null,
            "min_height": null,
            "min_width": null,
            "object_fit": null,
            "object_position": null,
            "order": null,
            "overflow": null,
            "overflow_x": null,
            "overflow_y": null,
            "padding": null,
            "right": null,
            "top": null,
            "visibility": null,
            "width": null
          }
        },
        "2966ea5ebbcc497bac984d0240a5a3f7": {
          "model_module": "@jupyter-widgets/base",
          "model_name": "LayoutModel",
          "model_module_version": "1.2.0",
          "state": {
            "_model_module": "@jupyter-widgets/base",
            "_model_module_version": "1.2.0",
            "_model_name": "LayoutModel",
            "_view_count": null,
            "_view_module": "@jupyter-widgets/base",
            "_view_module_version": "1.2.0",
            "_view_name": "LayoutView",
            "align_content": null,
            "align_items": null,
            "align_self": null,
            "border": null,
            "bottom": null,
            "display": null,
            "flex": null,
            "flex_flow": null,
            "grid_area": null,
            "grid_auto_columns": null,
            "grid_auto_flow": null,
            "grid_auto_rows": null,
            "grid_column": null,
            "grid_gap": null,
            "grid_row": null,
            "grid_template_areas": null,
            "grid_template_columns": null,
            "grid_template_rows": null,
            "height": null,
            "justify_content": null,
            "justify_items": null,
            "left": null,
            "margin": null,
            "max_height": null,
            "max_width": null,
            "min_height": null,
            "min_width": null,
            "object_fit": null,
            "object_position": null,
            "order": null,
            "overflow": null,
            "overflow_x": null,
            "overflow_y": null,
            "padding": null,
            "right": null,
            "top": null,
            "visibility": null,
            "width": null
          }
        },
        "d485c466daef445cabc0b438341994d5": {
          "model_module": "@jupyter-widgets/controls",
          "model_name": "DescriptionStyleModel",
          "model_module_version": "1.5.0",
          "state": {
            "_model_module": "@jupyter-widgets/controls",
            "_model_module_version": "1.5.0",
            "_model_name": "DescriptionStyleModel",
            "_view_count": null,
            "_view_module": "@jupyter-widgets/base",
            "_view_module_version": "1.2.0",
            "_view_name": "StyleView",
            "description_width": ""
          }
        },
        "520a170da8534005a7233be81489a48f": {
          "model_module": "@jupyter-widgets/base",
          "model_name": "LayoutModel",
          "model_module_version": "1.2.0",
          "state": {
            "_model_module": "@jupyter-widgets/base",
            "_model_module_version": "1.2.0",
            "_model_name": "LayoutModel",
            "_view_count": null,
            "_view_module": "@jupyter-widgets/base",
            "_view_module_version": "1.2.0",
            "_view_name": "LayoutView",
            "align_content": null,
            "align_items": null,
            "align_self": null,
            "border": null,
            "bottom": null,
            "display": null,
            "flex": null,
            "flex_flow": null,
            "grid_area": null,
            "grid_auto_columns": null,
            "grid_auto_flow": null,
            "grid_auto_rows": null,
            "grid_column": null,
            "grid_gap": null,
            "grid_row": null,
            "grid_template_areas": null,
            "grid_template_columns": null,
            "grid_template_rows": null,
            "height": null,
            "justify_content": null,
            "justify_items": null,
            "left": null,
            "margin": null,
            "max_height": null,
            "max_width": null,
            "min_height": null,
            "min_width": null,
            "object_fit": null,
            "object_position": null,
            "order": null,
            "overflow": null,
            "overflow_x": null,
            "overflow_y": null,
            "padding": null,
            "right": null,
            "top": null,
            "visibility": null,
            "width": null
          }
        },
        "6483a53f1183455999c0f7dce5c84133": {
          "model_module": "@jupyter-widgets/controls",
          "model_name": "ProgressStyleModel",
          "model_module_version": "1.5.0",
          "state": {
            "_model_module": "@jupyter-widgets/controls",
            "_model_module_version": "1.5.0",
            "_model_name": "ProgressStyleModel",
            "_view_count": null,
            "_view_module": "@jupyter-widgets/base",
            "_view_module_version": "1.2.0",
            "_view_name": "StyleView",
            "bar_color": null,
            "description_width": ""
          }
        },
        "902ba967ec6143b4879a12e828723011": {
          "model_module": "@jupyter-widgets/base",
          "model_name": "LayoutModel",
          "model_module_version": "1.2.0",
          "state": {
            "_model_module": "@jupyter-widgets/base",
            "_model_module_version": "1.2.0",
            "_model_name": "LayoutModel",
            "_view_count": null,
            "_view_module": "@jupyter-widgets/base",
            "_view_module_version": "1.2.0",
            "_view_name": "LayoutView",
            "align_content": null,
            "align_items": null,
            "align_self": null,
            "border": null,
            "bottom": null,
            "display": null,
            "flex": null,
            "flex_flow": null,
            "grid_area": null,
            "grid_auto_columns": null,
            "grid_auto_flow": null,
            "grid_auto_rows": null,
            "grid_column": null,
            "grid_gap": null,
            "grid_row": null,
            "grid_template_areas": null,
            "grid_template_columns": null,
            "grid_template_rows": null,
            "height": null,
            "justify_content": null,
            "justify_items": null,
            "left": null,
            "margin": null,
            "max_height": null,
            "max_width": null,
            "min_height": null,
            "min_width": null,
            "object_fit": null,
            "object_position": null,
            "order": null,
            "overflow": null,
            "overflow_x": null,
            "overflow_y": null,
            "padding": null,
            "right": null,
            "top": null,
            "visibility": null,
            "width": null
          }
        },
        "8e9bd7a76634467fb44737f19dcb043e": {
          "model_module": "@jupyter-widgets/controls",
          "model_name": "DescriptionStyleModel",
          "model_module_version": "1.5.0",
          "state": {
            "_model_module": "@jupyter-widgets/controls",
            "_model_module_version": "1.5.0",
            "_model_name": "DescriptionStyleModel",
            "_view_count": null,
            "_view_module": "@jupyter-widgets/base",
            "_view_module_version": "1.2.0",
            "_view_name": "StyleView",
            "description_width": ""
          }
        },
        "c4f5b5010df84dc8a63c1ce91cf13151": {
          "model_module": "@jupyter-widgets/controls",
          "model_name": "HBoxModel",
          "model_module_version": "1.5.0",
          "state": {
            "_dom_classes": [],
            "_model_module": "@jupyter-widgets/controls",
            "_model_module_version": "1.5.0",
            "_model_name": "HBoxModel",
            "_view_count": null,
            "_view_module": "@jupyter-widgets/controls",
            "_view_module_version": "1.5.0",
            "_view_name": "HBoxView",
            "box_style": "",
            "children": [
              "IPY_MODEL_d7b611b4995f4eafac38623e49dab222",
              "IPY_MODEL_8e4a42a6fb6e488aadf4f2903f20bba0",
              "IPY_MODEL_113fd3ac2e884065be042e1e527eafd2"
            ],
            "layout": "IPY_MODEL_928eb474b62a41c38481e54702058526"
          }
        },
        "d7b611b4995f4eafac38623e49dab222": {
          "model_module": "@jupyter-widgets/controls",
          "model_name": "HTMLModel",
          "model_module_version": "1.5.0",
          "state": {
            "_dom_classes": [],
            "_model_module": "@jupyter-widgets/controls",
            "_model_module_version": "1.5.0",
            "_model_name": "HTMLModel",
            "_view_count": null,
            "_view_module": "@jupyter-widgets/controls",
            "_view_module_version": "1.5.0",
            "_view_name": "HTMLView",
            "description": "",
            "description_tooltip": null,
            "layout": "IPY_MODEL_38e576de0f054dcea114338110936dea",
            "placeholder": "​",
            "style": "IPY_MODEL_4e23639e67284484a4328afe3c5a3b36",
            "value": "100%"
          }
        },
        "8e4a42a6fb6e488aadf4f2903f20bba0": {
          "model_module": "@jupyter-widgets/controls",
          "model_name": "FloatProgressModel",
          "model_module_version": "1.5.0",
          "state": {
            "_dom_classes": [],
            "_model_module": "@jupyter-widgets/controls",
            "_model_module_version": "1.5.0",
            "_model_name": "FloatProgressModel",
            "_view_count": null,
            "_view_module": "@jupyter-widgets/controls",
            "_view_module_version": "1.5.0",
            "_view_name": "ProgressView",
            "bar_style": "success",
            "description": "",
            "description_tooltip": null,
            "layout": "IPY_MODEL_875d759c6637440d9aea3cab70c14930",
            "max": 50,
            "min": 0,
            "orientation": "horizontal",
            "style": "IPY_MODEL_779032fe87bf48ef9e2f6f92b23b3944",
            "value": 50
          }
        },
        "113fd3ac2e884065be042e1e527eafd2": {
          "model_module": "@jupyter-widgets/controls",
          "model_name": "HTMLModel",
          "model_module_version": "1.5.0",
          "state": {
            "_dom_classes": [],
            "_model_module": "@jupyter-widgets/controls",
            "_model_module_version": "1.5.0",
            "_model_name": "HTMLModel",
            "_view_count": null,
            "_view_module": "@jupyter-widgets/controls",
            "_view_module_version": "1.5.0",
            "_view_name": "HTMLView",
            "description": "",
            "description_tooltip": null,
            "layout": "IPY_MODEL_f5fb43759aab4b59bd6416b4607cd475",
            "placeholder": "​",
            "style": "IPY_MODEL_5f9d9b4771e34965b3fe729788239d36",
            "value": " 50/50 [01:52&lt;00:00,  2.19s/epoch]"
          }
        },
        "928eb474b62a41c38481e54702058526": {
          "model_module": "@jupyter-widgets/base",
          "model_name": "LayoutModel",
          "model_module_version": "1.2.0",
          "state": {
            "_model_module": "@jupyter-widgets/base",
            "_model_module_version": "1.2.0",
            "_model_name": "LayoutModel",
            "_view_count": null,
            "_view_module": "@jupyter-widgets/base",
            "_view_module_version": "1.2.0",
            "_view_name": "LayoutView",
            "align_content": null,
            "align_items": null,
            "align_self": null,
            "border": null,
            "bottom": null,
            "display": null,
            "flex": null,
            "flex_flow": null,
            "grid_area": null,
            "grid_auto_columns": null,
            "grid_auto_flow": null,
            "grid_auto_rows": null,
            "grid_column": null,
            "grid_gap": null,
            "grid_row": null,
            "grid_template_areas": null,
            "grid_template_columns": null,
            "grid_template_rows": null,
            "height": null,
            "justify_content": null,
            "justify_items": null,
            "left": null,
            "margin": null,
            "max_height": null,
            "max_width": null,
            "min_height": null,
            "min_width": null,
            "object_fit": null,
            "object_position": null,
            "order": null,
            "overflow": null,
            "overflow_x": null,
            "overflow_y": null,
            "padding": null,
            "right": null,
            "top": null,
            "visibility": null,
            "width": null
          }
        },
        "38e576de0f054dcea114338110936dea": {
          "model_module": "@jupyter-widgets/base",
          "model_name": "LayoutModel",
          "model_module_version": "1.2.0",
          "state": {
            "_model_module": "@jupyter-widgets/base",
            "_model_module_version": "1.2.0",
            "_model_name": "LayoutModel",
            "_view_count": null,
            "_view_module": "@jupyter-widgets/base",
            "_view_module_version": "1.2.0",
            "_view_name": "LayoutView",
            "align_content": null,
            "align_items": null,
            "align_self": null,
            "border": null,
            "bottom": null,
            "display": null,
            "flex": null,
            "flex_flow": null,
            "grid_area": null,
            "grid_auto_columns": null,
            "grid_auto_flow": null,
            "grid_auto_rows": null,
            "grid_column": null,
            "grid_gap": null,
            "grid_row": null,
            "grid_template_areas": null,
            "grid_template_columns": null,
            "grid_template_rows": null,
            "height": null,
            "justify_content": null,
            "justify_items": null,
            "left": null,
            "margin": null,
            "max_height": null,
            "max_width": null,
            "min_height": null,
            "min_width": null,
            "object_fit": null,
            "object_position": null,
            "order": null,
            "overflow": null,
            "overflow_x": null,
            "overflow_y": null,
            "padding": null,
            "right": null,
            "top": null,
            "visibility": null,
            "width": null
          }
        },
        "4e23639e67284484a4328afe3c5a3b36": {
          "model_module": "@jupyter-widgets/controls",
          "model_name": "DescriptionStyleModel",
          "model_module_version": "1.5.0",
          "state": {
            "_model_module": "@jupyter-widgets/controls",
            "_model_module_version": "1.5.0",
            "_model_name": "DescriptionStyleModel",
            "_view_count": null,
            "_view_module": "@jupyter-widgets/base",
            "_view_module_version": "1.2.0",
            "_view_name": "StyleView",
            "description_width": ""
          }
        },
        "875d759c6637440d9aea3cab70c14930": {
          "model_module": "@jupyter-widgets/base",
          "model_name": "LayoutModel",
          "model_module_version": "1.2.0",
          "state": {
            "_model_module": "@jupyter-widgets/base",
            "_model_module_version": "1.2.0",
            "_model_name": "LayoutModel",
            "_view_count": null,
            "_view_module": "@jupyter-widgets/base",
            "_view_module_version": "1.2.0",
            "_view_name": "LayoutView",
            "align_content": null,
            "align_items": null,
            "align_self": null,
            "border": null,
            "bottom": null,
            "display": null,
            "flex": null,
            "flex_flow": null,
            "grid_area": null,
            "grid_auto_columns": null,
            "grid_auto_flow": null,
            "grid_auto_rows": null,
            "grid_column": null,
            "grid_gap": null,
            "grid_row": null,
            "grid_template_areas": null,
            "grid_template_columns": null,
            "grid_template_rows": null,
            "height": null,
            "justify_content": null,
            "justify_items": null,
            "left": null,
            "margin": null,
            "max_height": null,
            "max_width": null,
            "min_height": null,
            "min_width": null,
            "object_fit": null,
            "object_position": null,
            "order": null,
            "overflow": null,
            "overflow_x": null,
            "overflow_y": null,
            "padding": null,
            "right": null,
            "top": null,
            "visibility": null,
            "width": null
          }
        },
        "779032fe87bf48ef9e2f6f92b23b3944": {
          "model_module": "@jupyter-widgets/controls",
          "model_name": "ProgressStyleModel",
          "model_module_version": "1.5.0",
          "state": {
            "_model_module": "@jupyter-widgets/controls",
            "_model_module_version": "1.5.0",
            "_model_name": "ProgressStyleModel",
            "_view_count": null,
            "_view_module": "@jupyter-widgets/base",
            "_view_module_version": "1.2.0",
            "_view_name": "StyleView",
            "bar_color": null,
            "description_width": ""
          }
        },
        "f5fb43759aab4b59bd6416b4607cd475": {
          "model_module": "@jupyter-widgets/base",
          "model_name": "LayoutModel",
          "model_module_version": "1.2.0",
          "state": {
            "_model_module": "@jupyter-widgets/base",
            "_model_module_version": "1.2.0",
            "_model_name": "LayoutModel",
            "_view_count": null,
            "_view_module": "@jupyter-widgets/base",
            "_view_module_version": "1.2.0",
            "_view_name": "LayoutView",
            "align_content": null,
            "align_items": null,
            "align_self": null,
            "border": null,
            "bottom": null,
            "display": null,
            "flex": null,
            "flex_flow": null,
            "grid_area": null,
            "grid_auto_columns": null,
            "grid_auto_flow": null,
            "grid_auto_rows": null,
            "grid_column": null,
            "grid_gap": null,
            "grid_row": null,
            "grid_template_areas": null,
            "grid_template_columns": null,
            "grid_template_rows": null,
            "height": null,
            "justify_content": null,
            "justify_items": null,
            "left": null,
            "margin": null,
            "max_height": null,
            "max_width": null,
            "min_height": null,
            "min_width": null,
            "object_fit": null,
            "object_position": null,
            "order": null,
            "overflow": null,
            "overflow_x": null,
            "overflow_y": null,
            "padding": null,
            "right": null,
            "top": null,
            "visibility": null,
            "width": null
          }
        },
        "5f9d9b4771e34965b3fe729788239d36": {
          "model_module": "@jupyter-widgets/controls",
          "model_name": "DescriptionStyleModel",
          "model_module_version": "1.5.0",
          "state": {
            "_model_module": "@jupyter-widgets/controls",
            "_model_module_version": "1.5.0",
            "_model_name": "DescriptionStyleModel",
            "_view_count": null,
            "_view_module": "@jupyter-widgets/base",
            "_view_module_version": "1.2.0",
            "_view_name": "StyleView",
            "description_width": ""
          }
        },
        "b8fdf1fff3b646b982f63a6f6956f85d": {
          "model_module": "@jupyter-widgets/controls",
          "model_name": "HBoxModel",
          "model_module_version": "1.5.0",
          "state": {
            "_dom_classes": [],
            "_model_module": "@jupyter-widgets/controls",
            "_model_module_version": "1.5.0",
            "_model_name": "HBoxModel",
            "_view_count": null,
            "_view_module": "@jupyter-widgets/controls",
            "_view_module_version": "1.5.0",
            "_view_name": "HBoxView",
            "box_style": "",
            "children": [
              "IPY_MODEL_d495649c72b14e3a836c414a1f362d8a",
              "IPY_MODEL_81e0658d096346068e5bbd6dc3615f2f",
              "IPY_MODEL_15f090dd4695419a872747d61c35999b"
            ],
            "layout": "IPY_MODEL_e8062da2a9084b13872bd859ad347596"
          }
        },
        "d495649c72b14e3a836c414a1f362d8a": {
          "model_module": "@jupyter-widgets/controls",
          "model_name": "HTMLModel",
          "model_module_version": "1.5.0",
          "state": {
            "_dom_classes": [],
            "_model_module": "@jupyter-widgets/controls",
            "_model_module_version": "1.5.0",
            "_model_name": "HTMLModel",
            "_view_count": null,
            "_view_module": "@jupyter-widgets/controls",
            "_view_module_version": "1.5.0",
            "_view_name": "HTMLView",
            "description": "",
            "description_tooltip": null,
            "layout": "IPY_MODEL_f22905bd3d034e139190a4d990c61880",
            "placeholder": "​",
            "style": "IPY_MODEL_69b9651071ff4dc090c5d8c286b31678",
            "value": "100%"
          }
        },
        "81e0658d096346068e5bbd6dc3615f2f": {
          "model_module": "@jupyter-widgets/controls",
          "model_name": "FloatProgressModel",
          "model_module_version": "1.5.0",
          "state": {
            "_dom_classes": [],
            "_model_module": "@jupyter-widgets/controls",
            "_model_module_version": "1.5.0",
            "_model_name": "FloatProgressModel",
            "_view_count": null,
            "_view_module": "@jupyter-widgets/controls",
            "_view_module_version": "1.5.0",
            "_view_name": "ProgressView",
            "bar_style": "success",
            "description": "",
            "description_tooltip": null,
            "layout": "IPY_MODEL_7502d0dde69e4993bf68f52d81a4cfe0",
            "max": 50,
            "min": 0,
            "orientation": "horizontal",
            "style": "IPY_MODEL_3da0c94a7eb9418fb883d7a1a2fdcdd7",
            "value": 50
          }
        },
        "15f090dd4695419a872747d61c35999b": {
          "model_module": "@jupyter-widgets/controls",
          "model_name": "HTMLModel",
          "model_module_version": "1.5.0",
          "state": {
            "_dom_classes": [],
            "_model_module": "@jupyter-widgets/controls",
            "_model_module_version": "1.5.0",
            "_model_name": "HTMLModel",
            "_view_count": null,
            "_view_module": "@jupyter-widgets/controls",
            "_view_module_version": "1.5.0",
            "_view_name": "HTMLView",
            "description": "",
            "description_tooltip": null,
            "layout": "IPY_MODEL_e9e30f725f2147d2999c8f71cfc6d313",
            "placeholder": "​",
            "style": "IPY_MODEL_932c7fcde30445cd8c25f2a2044ba13d",
            "value": " 50/50 [01:47&lt;00:00,  2.15s/epoch]"
          }
        },
        "e8062da2a9084b13872bd859ad347596": {
          "model_module": "@jupyter-widgets/base",
          "model_name": "LayoutModel",
          "model_module_version": "1.2.0",
          "state": {
            "_model_module": "@jupyter-widgets/base",
            "_model_module_version": "1.2.0",
            "_model_name": "LayoutModel",
            "_view_count": null,
            "_view_module": "@jupyter-widgets/base",
            "_view_module_version": "1.2.0",
            "_view_name": "LayoutView",
            "align_content": null,
            "align_items": null,
            "align_self": null,
            "border": null,
            "bottom": null,
            "display": null,
            "flex": null,
            "flex_flow": null,
            "grid_area": null,
            "grid_auto_columns": null,
            "grid_auto_flow": null,
            "grid_auto_rows": null,
            "grid_column": null,
            "grid_gap": null,
            "grid_row": null,
            "grid_template_areas": null,
            "grid_template_columns": null,
            "grid_template_rows": null,
            "height": null,
            "justify_content": null,
            "justify_items": null,
            "left": null,
            "margin": null,
            "max_height": null,
            "max_width": null,
            "min_height": null,
            "min_width": null,
            "object_fit": null,
            "object_position": null,
            "order": null,
            "overflow": null,
            "overflow_x": null,
            "overflow_y": null,
            "padding": null,
            "right": null,
            "top": null,
            "visibility": null,
            "width": null
          }
        },
        "f22905bd3d034e139190a4d990c61880": {
          "model_module": "@jupyter-widgets/base",
          "model_name": "LayoutModel",
          "model_module_version": "1.2.0",
          "state": {
            "_model_module": "@jupyter-widgets/base",
            "_model_module_version": "1.2.0",
            "_model_name": "LayoutModel",
            "_view_count": null,
            "_view_module": "@jupyter-widgets/base",
            "_view_module_version": "1.2.0",
            "_view_name": "LayoutView",
            "align_content": null,
            "align_items": null,
            "align_self": null,
            "border": null,
            "bottom": null,
            "display": null,
            "flex": null,
            "flex_flow": null,
            "grid_area": null,
            "grid_auto_columns": null,
            "grid_auto_flow": null,
            "grid_auto_rows": null,
            "grid_column": null,
            "grid_gap": null,
            "grid_row": null,
            "grid_template_areas": null,
            "grid_template_columns": null,
            "grid_template_rows": null,
            "height": null,
            "justify_content": null,
            "justify_items": null,
            "left": null,
            "margin": null,
            "max_height": null,
            "max_width": null,
            "min_height": null,
            "min_width": null,
            "object_fit": null,
            "object_position": null,
            "order": null,
            "overflow": null,
            "overflow_x": null,
            "overflow_y": null,
            "padding": null,
            "right": null,
            "top": null,
            "visibility": null,
            "width": null
          }
        },
        "69b9651071ff4dc090c5d8c286b31678": {
          "model_module": "@jupyter-widgets/controls",
          "model_name": "DescriptionStyleModel",
          "model_module_version": "1.5.0",
          "state": {
            "_model_module": "@jupyter-widgets/controls",
            "_model_module_version": "1.5.0",
            "_model_name": "DescriptionStyleModel",
            "_view_count": null,
            "_view_module": "@jupyter-widgets/base",
            "_view_module_version": "1.2.0",
            "_view_name": "StyleView",
            "description_width": ""
          }
        },
        "7502d0dde69e4993bf68f52d81a4cfe0": {
          "model_module": "@jupyter-widgets/base",
          "model_name": "LayoutModel",
          "model_module_version": "1.2.0",
          "state": {
            "_model_module": "@jupyter-widgets/base",
            "_model_module_version": "1.2.0",
            "_model_name": "LayoutModel",
            "_view_count": null,
            "_view_module": "@jupyter-widgets/base",
            "_view_module_version": "1.2.0",
            "_view_name": "LayoutView",
            "align_content": null,
            "align_items": null,
            "align_self": null,
            "border": null,
            "bottom": null,
            "display": null,
            "flex": null,
            "flex_flow": null,
            "grid_area": null,
            "grid_auto_columns": null,
            "grid_auto_flow": null,
            "grid_auto_rows": null,
            "grid_column": null,
            "grid_gap": null,
            "grid_row": null,
            "grid_template_areas": null,
            "grid_template_columns": null,
            "grid_template_rows": null,
            "height": null,
            "justify_content": null,
            "justify_items": null,
            "left": null,
            "margin": null,
            "max_height": null,
            "max_width": null,
            "min_height": null,
            "min_width": null,
            "object_fit": null,
            "object_position": null,
            "order": null,
            "overflow": null,
            "overflow_x": null,
            "overflow_y": null,
            "padding": null,
            "right": null,
            "top": null,
            "visibility": null,
            "width": null
          }
        },
        "3da0c94a7eb9418fb883d7a1a2fdcdd7": {
          "model_module": "@jupyter-widgets/controls",
          "model_name": "ProgressStyleModel",
          "model_module_version": "1.5.0",
          "state": {
            "_model_module": "@jupyter-widgets/controls",
            "_model_module_version": "1.5.0",
            "_model_name": "ProgressStyleModel",
            "_view_count": null,
            "_view_module": "@jupyter-widgets/base",
            "_view_module_version": "1.2.0",
            "_view_name": "StyleView",
            "bar_color": null,
            "description_width": ""
          }
        },
        "e9e30f725f2147d2999c8f71cfc6d313": {
          "model_module": "@jupyter-widgets/base",
          "model_name": "LayoutModel",
          "model_module_version": "1.2.0",
          "state": {
            "_model_module": "@jupyter-widgets/base",
            "_model_module_version": "1.2.0",
            "_model_name": "LayoutModel",
            "_view_count": null,
            "_view_module": "@jupyter-widgets/base",
            "_view_module_version": "1.2.0",
            "_view_name": "LayoutView",
            "align_content": null,
            "align_items": null,
            "align_self": null,
            "border": null,
            "bottom": null,
            "display": null,
            "flex": null,
            "flex_flow": null,
            "grid_area": null,
            "grid_auto_columns": null,
            "grid_auto_flow": null,
            "grid_auto_rows": null,
            "grid_column": null,
            "grid_gap": null,
            "grid_row": null,
            "grid_template_areas": null,
            "grid_template_columns": null,
            "grid_template_rows": null,
            "height": null,
            "justify_content": null,
            "justify_items": null,
            "left": null,
            "margin": null,
            "max_height": null,
            "max_width": null,
            "min_height": null,
            "min_width": null,
            "object_fit": null,
            "object_position": null,
            "order": null,
            "overflow": null,
            "overflow_x": null,
            "overflow_y": null,
            "padding": null,
            "right": null,
            "top": null,
            "visibility": null,
            "width": null
          }
        },
        "932c7fcde30445cd8c25f2a2044ba13d": {
          "model_module": "@jupyter-widgets/controls",
          "model_name": "DescriptionStyleModel",
          "model_module_version": "1.5.0",
          "state": {
            "_model_module": "@jupyter-widgets/controls",
            "_model_module_version": "1.5.0",
            "_model_name": "DescriptionStyleModel",
            "_view_count": null,
            "_view_module": "@jupyter-widgets/base",
            "_view_module_version": "1.2.0",
            "_view_name": "StyleView",
            "description_width": ""
          }
        },
        "ba4e6651a52f45a7b2e388225fa7fa9e": {
          "model_module": "@jupyter-widgets/controls",
          "model_name": "HBoxModel",
          "model_module_version": "1.5.0",
          "state": {
            "_dom_classes": [],
            "_model_module": "@jupyter-widgets/controls",
            "_model_module_version": "1.5.0",
            "_model_name": "HBoxModel",
            "_view_count": null,
            "_view_module": "@jupyter-widgets/controls",
            "_view_module_version": "1.5.0",
            "_view_name": "HBoxView",
            "box_style": "",
            "children": [
              "IPY_MODEL_473342ff656f49b0aadbd8ff161c25c6",
              "IPY_MODEL_570c122b07834a129797db66f333a868",
              "IPY_MODEL_945ff317fcc04f92a0e83fefd6846874"
            ],
            "layout": "IPY_MODEL_7e929205b485400c99e6ce72f897d2d6"
          }
        },
        "473342ff656f49b0aadbd8ff161c25c6": {
          "model_module": "@jupyter-widgets/controls",
          "model_name": "HTMLModel",
          "model_module_version": "1.5.0",
          "state": {
            "_dom_classes": [],
            "_model_module": "@jupyter-widgets/controls",
            "_model_module_version": "1.5.0",
            "_model_name": "HTMLModel",
            "_view_count": null,
            "_view_module": "@jupyter-widgets/controls",
            "_view_module_version": "1.5.0",
            "_view_name": "HTMLView",
            "description": "",
            "description_tooltip": null,
            "layout": "IPY_MODEL_b15142f4f6e242bb8ba26ed9cfe01b96",
            "placeholder": "​",
            "style": "IPY_MODEL_6335468b9a034f72acd7a41195a4170e",
            "value": "100%"
          }
        },
        "570c122b07834a129797db66f333a868": {
          "model_module": "@jupyter-widgets/controls",
          "model_name": "FloatProgressModel",
          "model_module_version": "1.5.0",
          "state": {
            "_dom_classes": [],
            "_model_module": "@jupyter-widgets/controls",
            "_model_module_version": "1.5.0",
            "_model_name": "FloatProgressModel",
            "_view_count": null,
            "_view_module": "@jupyter-widgets/controls",
            "_view_module_version": "1.5.0",
            "_view_name": "ProgressView",
            "bar_style": "success",
            "description": "",
            "description_tooltip": null,
            "layout": "IPY_MODEL_19965ab274cf43b7bd9c909b5cf679c8",
            "max": 50,
            "min": 0,
            "orientation": "horizontal",
            "style": "IPY_MODEL_df09bcb0c8204c31ad7683d47b7a29f9",
            "value": 50
          }
        },
        "945ff317fcc04f92a0e83fefd6846874": {
          "model_module": "@jupyter-widgets/controls",
          "model_name": "HTMLModel",
          "model_module_version": "1.5.0",
          "state": {
            "_dom_classes": [],
            "_model_module": "@jupyter-widgets/controls",
            "_model_module_version": "1.5.0",
            "_model_name": "HTMLModel",
            "_view_count": null,
            "_view_module": "@jupyter-widgets/controls",
            "_view_module_version": "1.5.0",
            "_view_name": "HTMLView",
            "description": "",
            "description_tooltip": null,
            "layout": "IPY_MODEL_135d275b2ccb4d21a3f31efdc6848f1d",
            "placeholder": "​",
            "style": "IPY_MODEL_b688331ba0b146e192f32254f1646cae",
            "value": " 50/50 [02:12&lt;00:00,  2.76s/epoch]"
          }
        },
        "7e929205b485400c99e6ce72f897d2d6": {
          "model_module": "@jupyter-widgets/base",
          "model_name": "LayoutModel",
          "model_module_version": "1.2.0",
          "state": {
            "_model_module": "@jupyter-widgets/base",
            "_model_module_version": "1.2.0",
            "_model_name": "LayoutModel",
            "_view_count": null,
            "_view_module": "@jupyter-widgets/base",
            "_view_module_version": "1.2.0",
            "_view_name": "LayoutView",
            "align_content": null,
            "align_items": null,
            "align_self": null,
            "border": null,
            "bottom": null,
            "display": null,
            "flex": null,
            "flex_flow": null,
            "grid_area": null,
            "grid_auto_columns": null,
            "grid_auto_flow": null,
            "grid_auto_rows": null,
            "grid_column": null,
            "grid_gap": null,
            "grid_row": null,
            "grid_template_areas": null,
            "grid_template_columns": null,
            "grid_template_rows": null,
            "height": null,
            "justify_content": null,
            "justify_items": null,
            "left": null,
            "margin": null,
            "max_height": null,
            "max_width": null,
            "min_height": null,
            "min_width": null,
            "object_fit": null,
            "object_position": null,
            "order": null,
            "overflow": null,
            "overflow_x": null,
            "overflow_y": null,
            "padding": null,
            "right": null,
            "top": null,
            "visibility": null,
            "width": null
          }
        },
        "b15142f4f6e242bb8ba26ed9cfe01b96": {
          "model_module": "@jupyter-widgets/base",
          "model_name": "LayoutModel",
          "model_module_version": "1.2.0",
          "state": {
            "_model_module": "@jupyter-widgets/base",
            "_model_module_version": "1.2.0",
            "_model_name": "LayoutModel",
            "_view_count": null,
            "_view_module": "@jupyter-widgets/base",
            "_view_module_version": "1.2.0",
            "_view_name": "LayoutView",
            "align_content": null,
            "align_items": null,
            "align_self": null,
            "border": null,
            "bottom": null,
            "display": null,
            "flex": null,
            "flex_flow": null,
            "grid_area": null,
            "grid_auto_columns": null,
            "grid_auto_flow": null,
            "grid_auto_rows": null,
            "grid_column": null,
            "grid_gap": null,
            "grid_row": null,
            "grid_template_areas": null,
            "grid_template_columns": null,
            "grid_template_rows": null,
            "height": null,
            "justify_content": null,
            "justify_items": null,
            "left": null,
            "margin": null,
            "max_height": null,
            "max_width": null,
            "min_height": null,
            "min_width": null,
            "object_fit": null,
            "object_position": null,
            "order": null,
            "overflow": null,
            "overflow_x": null,
            "overflow_y": null,
            "padding": null,
            "right": null,
            "top": null,
            "visibility": null,
            "width": null
          }
        },
        "6335468b9a034f72acd7a41195a4170e": {
          "model_module": "@jupyter-widgets/controls",
          "model_name": "DescriptionStyleModel",
          "model_module_version": "1.5.0",
          "state": {
            "_model_module": "@jupyter-widgets/controls",
            "_model_module_version": "1.5.0",
            "_model_name": "DescriptionStyleModel",
            "_view_count": null,
            "_view_module": "@jupyter-widgets/base",
            "_view_module_version": "1.2.0",
            "_view_name": "StyleView",
            "description_width": ""
          }
        },
        "19965ab274cf43b7bd9c909b5cf679c8": {
          "model_module": "@jupyter-widgets/base",
          "model_name": "LayoutModel",
          "model_module_version": "1.2.0",
          "state": {
            "_model_module": "@jupyter-widgets/base",
            "_model_module_version": "1.2.0",
            "_model_name": "LayoutModel",
            "_view_count": null,
            "_view_module": "@jupyter-widgets/base",
            "_view_module_version": "1.2.0",
            "_view_name": "LayoutView",
            "align_content": null,
            "align_items": null,
            "align_self": null,
            "border": null,
            "bottom": null,
            "display": null,
            "flex": null,
            "flex_flow": null,
            "grid_area": null,
            "grid_auto_columns": null,
            "grid_auto_flow": null,
            "grid_auto_rows": null,
            "grid_column": null,
            "grid_gap": null,
            "grid_row": null,
            "grid_template_areas": null,
            "grid_template_columns": null,
            "grid_template_rows": null,
            "height": null,
            "justify_content": null,
            "justify_items": null,
            "left": null,
            "margin": null,
            "max_height": null,
            "max_width": null,
            "min_height": null,
            "min_width": null,
            "object_fit": null,
            "object_position": null,
            "order": null,
            "overflow": null,
            "overflow_x": null,
            "overflow_y": null,
            "padding": null,
            "right": null,
            "top": null,
            "visibility": null,
            "width": null
          }
        },
        "df09bcb0c8204c31ad7683d47b7a29f9": {
          "model_module": "@jupyter-widgets/controls",
          "model_name": "ProgressStyleModel",
          "model_module_version": "1.5.0",
          "state": {
            "_model_module": "@jupyter-widgets/controls",
            "_model_module_version": "1.5.0",
            "_model_name": "ProgressStyleModel",
            "_view_count": null,
            "_view_module": "@jupyter-widgets/base",
            "_view_module_version": "1.2.0",
            "_view_name": "StyleView",
            "bar_color": null,
            "description_width": ""
          }
        },
        "135d275b2ccb4d21a3f31efdc6848f1d": {
          "model_module": "@jupyter-widgets/base",
          "model_name": "LayoutModel",
          "model_module_version": "1.2.0",
          "state": {
            "_model_module": "@jupyter-widgets/base",
            "_model_module_version": "1.2.0",
            "_model_name": "LayoutModel",
            "_view_count": null,
            "_view_module": "@jupyter-widgets/base",
            "_view_module_version": "1.2.0",
            "_view_name": "LayoutView",
            "align_content": null,
            "align_items": null,
            "align_self": null,
            "border": null,
            "bottom": null,
            "display": null,
            "flex": null,
            "flex_flow": null,
            "grid_area": null,
            "grid_auto_columns": null,
            "grid_auto_flow": null,
            "grid_auto_rows": null,
            "grid_column": null,
            "grid_gap": null,
            "grid_row": null,
            "grid_template_areas": null,
            "grid_template_columns": null,
            "grid_template_rows": null,
            "height": null,
            "justify_content": null,
            "justify_items": null,
            "left": null,
            "margin": null,
            "max_height": null,
            "max_width": null,
            "min_height": null,
            "min_width": null,
            "object_fit": null,
            "object_position": null,
            "order": null,
            "overflow": null,
            "overflow_x": null,
            "overflow_y": null,
            "padding": null,
            "right": null,
            "top": null,
            "visibility": null,
            "width": null
          }
        },
        "b688331ba0b146e192f32254f1646cae": {
          "model_module": "@jupyter-widgets/controls",
          "model_name": "DescriptionStyleModel",
          "model_module_version": "1.5.0",
          "state": {
            "_model_module": "@jupyter-widgets/controls",
            "_model_module_version": "1.5.0",
            "_model_name": "DescriptionStyleModel",
            "_view_count": null,
            "_view_module": "@jupyter-widgets/base",
            "_view_module_version": "1.2.0",
            "_view_name": "StyleView",
            "description_width": ""
          }
        },
        "48fad28b4b7c49bab6ec8c85541d72c6": {
          "model_module": "@jupyter-widgets/controls",
          "model_name": "HBoxModel",
          "model_module_version": "1.5.0",
          "state": {
            "_dom_classes": [],
            "_model_module": "@jupyter-widgets/controls",
            "_model_module_version": "1.5.0",
            "_model_name": "HBoxModel",
            "_view_count": null,
            "_view_module": "@jupyter-widgets/controls",
            "_view_module_version": "1.5.0",
            "_view_name": "HBoxView",
            "box_style": "",
            "children": [
              "IPY_MODEL_52e94bcda675455fa5a4b0c5a29e1d1a",
              "IPY_MODEL_47a96bfd0930405d910d18a3b966884f",
              "IPY_MODEL_63ba2b5585b2409796f01912a67a4b88"
            ],
            "layout": "IPY_MODEL_64eea280afcd47d38625918e82141d79"
          }
        },
        "52e94bcda675455fa5a4b0c5a29e1d1a": {
          "model_module": "@jupyter-widgets/controls",
          "model_name": "HTMLModel",
          "model_module_version": "1.5.0",
          "state": {
            "_dom_classes": [],
            "_model_module": "@jupyter-widgets/controls",
            "_model_module_version": "1.5.0",
            "_model_name": "HTMLModel",
            "_view_count": null,
            "_view_module": "@jupyter-widgets/controls",
            "_view_module_version": "1.5.0",
            "_view_name": "HTMLView",
            "description": "",
            "description_tooltip": null,
            "layout": "IPY_MODEL_be8bedb8cfd04f6d89ecea7d9f81ba37",
            "placeholder": "​",
            "style": "IPY_MODEL_4b8c44ceb8bf4a5290f1d1fb9230feb3",
            "value": "100%"
          }
        },
        "47a96bfd0930405d910d18a3b966884f": {
          "model_module": "@jupyter-widgets/controls",
          "model_name": "FloatProgressModel",
          "model_module_version": "1.5.0",
          "state": {
            "_dom_classes": [],
            "_model_module": "@jupyter-widgets/controls",
            "_model_module_version": "1.5.0",
            "_model_name": "FloatProgressModel",
            "_view_count": null,
            "_view_module": "@jupyter-widgets/controls",
            "_view_module_version": "1.5.0",
            "_view_name": "ProgressView",
            "bar_style": "success",
            "description": "",
            "description_tooltip": null,
            "layout": "IPY_MODEL_c4a4457c18af4ce78b4772e1d6c83bfa",
            "max": 150,
            "min": 0,
            "orientation": "horizontal",
            "style": "IPY_MODEL_64271b12897f4569ac6ac6eeed39e0b1",
            "value": 150
          }
        },
        "63ba2b5585b2409796f01912a67a4b88": {
          "model_module": "@jupyter-widgets/controls",
          "model_name": "HTMLModel",
          "model_module_version": "1.5.0",
          "state": {
            "_dom_classes": [],
            "_model_module": "@jupyter-widgets/controls",
            "_model_module_version": "1.5.0",
            "_model_name": "HTMLModel",
            "_view_count": null,
            "_view_module": "@jupyter-widgets/controls",
            "_view_module_version": "1.5.0",
            "_view_name": "HTMLView",
            "description": "",
            "description_tooltip": null,
            "layout": "IPY_MODEL_6d287900c8844e9381d8bd845fff4ab1",
            "placeholder": "​",
            "style": "IPY_MODEL_692dc482749341aa987bd05dfac163e7",
            "value": " 150/150 [06:32&lt;00:00,  2.56s/epoch]"
          }
        },
        "64eea280afcd47d38625918e82141d79": {
          "model_module": "@jupyter-widgets/base",
          "model_name": "LayoutModel",
          "model_module_version": "1.2.0",
          "state": {
            "_model_module": "@jupyter-widgets/base",
            "_model_module_version": "1.2.0",
            "_model_name": "LayoutModel",
            "_view_count": null,
            "_view_module": "@jupyter-widgets/base",
            "_view_module_version": "1.2.0",
            "_view_name": "LayoutView",
            "align_content": null,
            "align_items": null,
            "align_self": null,
            "border": null,
            "bottom": null,
            "display": null,
            "flex": null,
            "flex_flow": null,
            "grid_area": null,
            "grid_auto_columns": null,
            "grid_auto_flow": null,
            "grid_auto_rows": null,
            "grid_column": null,
            "grid_gap": null,
            "grid_row": null,
            "grid_template_areas": null,
            "grid_template_columns": null,
            "grid_template_rows": null,
            "height": null,
            "justify_content": null,
            "justify_items": null,
            "left": null,
            "margin": null,
            "max_height": null,
            "max_width": null,
            "min_height": null,
            "min_width": null,
            "object_fit": null,
            "object_position": null,
            "order": null,
            "overflow": null,
            "overflow_x": null,
            "overflow_y": null,
            "padding": null,
            "right": null,
            "top": null,
            "visibility": null,
            "width": null
          }
        },
        "be8bedb8cfd04f6d89ecea7d9f81ba37": {
          "model_module": "@jupyter-widgets/base",
          "model_name": "LayoutModel",
          "model_module_version": "1.2.0",
          "state": {
            "_model_module": "@jupyter-widgets/base",
            "_model_module_version": "1.2.0",
            "_model_name": "LayoutModel",
            "_view_count": null,
            "_view_module": "@jupyter-widgets/base",
            "_view_module_version": "1.2.0",
            "_view_name": "LayoutView",
            "align_content": null,
            "align_items": null,
            "align_self": null,
            "border": null,
            "bottom": null,
            "display": null,
            "flex": null,
            "flex_flow": null,
            "grid_area": null,
            "grid_auto_columns": null,
            "grid_auto_flow": null,
            "grid_auto_rows": null,
            "grid_column": null,
            "grid_gap": null,
            "grid_row": null,
            "grid_template_areas": null,
            "grid_template_columns": null,
            "grid_template_rows": null,
            "height": null,
            "justify_content": null,
            "justify_items": null,
            "left": null,
            "margin": null,
            "max_height": null,
            "max_width": null,
            "min_height": null,
            "min_width": null,
            "object_fit": null,
            "object_position": null,
            "order": null,
            "overflow": null,
            "overflow_x": null,
            "overflow_y": null,
            "padding": null,
            "right": null,
            "top": null,
            "visibility": null,
            "width": null
          }
        },
        "4b8c44ceb8bf4a5290f1d1fb9230feb3": {
          "model_module": "@jupyter-widgets/controls",
          "model_name": "DescriptionStyleModel",
          "model_module_version": "1.5.0",
          "state": {
            "_model_module": "@jupyter-widgets/controls",
            "_model_module_version": "1.5.0",
            "_model_name": "DescriptionStyleModel",
            "_view_count": null,
            "_view_module": "@jupyter-widgets/base",
            "_view_module_version": "1.2.0",
            "_view_name": "StyleView",
            "description_width": ""
          }
        },
        "c4a4457c18af4ce78b4772e1d6c83bfa": {
          "model_module": "@jupyter-widgets/base",
          "model_name": "LayoutModel",
          "model_module_version": "1.2.0",
          "state": {
            "_model_module": "@jupyter-widgets/base",
            "_model_module_version": "1.2.0",
            "_model_name": "LayoutModel",
            "_view_count": null,
            "_view_module": "@jupyter-widgets/base",
            "_view_module_version": "1.2.0",
            "_view_name": "LayoutView",
            "align_content": null,
            "align_items": null,
            "align_self": null,
            "border": null,
            "bottom": null,
            "display": null,
            "flex": null,
            "flex_flow": null,
            "grid_area": null,
            "grid_auto_columns": null,
            "grid_auto_flow": null,
            "grid_auto_rows": null,
            "grid_column": null,
            "grid_gap": null,
            "grid_row": null,
            "grid_template_areas": null,
            "grid_template_columns": null,
            "grid_template_rows": null,
            "height": null,
            "justify_content": null,
            "justify_items": null,
            "left": null,
            "margin": null,
            "max_height": null,
            "max_width": null,
            "min_height": null,
            "min_width": null,
            "object_fit": null,
            "object_position": null,
            "order": null,
            "overflow": null,
            "overflow_x": null,
            "overflow_y": null,
            "padding": null,
            "right": null,
            "top": null,
            "visibility": null,
            "width": null
          }
        },
        "64271b12897f4569ac6ac6eeed39e0b1": {
          "model_module": "@jupyter-widgets/controls",
          "model_name": "ProgressStyleModel",
          "model_module_version": "1.5.0",
          "state": {
            "_model_module": "@jupyter-widgets/controls",
            "_model_module_version": "1.5.0",
            "_model_name": "ProgressStyleModel",
            "_view_count": null,
            "_view_module": "@jupyter-widgets/base",
            "_view_module_version": "1.2.0",
            "_view_name": "StyleView",
            "bar_color": null,
            "description_width": ""
          }
        },
        "6d287900c8844e9381d8bd845fff4ab1": {
          "model_module": "@jupyter-widgets/base",
          "model_name": "LayoutModel",
          "model_module_version": "1.2.0",
          "state": {
            "_model_module": "@jupyter-widgets/base",
            "_model_module_version": "1.2.0",
            "_model_name": "LayoutModel",
            "_view_count": null,
            "_view_module": "@jupyter-widgets/base",
            "_view_module_version": "1.2.0",
            "_view_name": "LayoutView",
            "align_content": null,
            "align_items": null,
            "align_self": null,
            "border": null,
            "bottom": null,
            "display": null,
            "flex": null,
            "flex_flow": null,
            "grid_area": null,
            "grid_auto_columns": null,
            "grid_auto_flow": null,
            "grid_auto_rows": null,
            "grid_column": null,
            "grid_gap": null,
            "grid_row": null,
            "grid_template_areas": null,
            "grid_template_columns": null,
            "grid_template_rows": null,
            "height": null,
            "justify_content": null,
            "justify_items": null,
            "left": null,
            "margin": null,
            "max_height": null,
            "max_width": null,
            "min_height": null,
            "min_width": null,
            "object_fit": null,
            "object_position": null,
            "order": null,
            "overflow": null,
            "overflow_x": null,
            "overflow_y": null,
            "padding": null,
            "right": null,
            "top": null,
            "visibility": null,
            "width": null
          }
        },
        "692dc482749341aa987bd05dfac163e7": {
          "model_module": "@jupyter-widgets/controls",
          "model_name": "DescriptionStyleModel",
          "model_module_version": "1.5.0",
          "state": {
            "_model_module": "@jupyter-widgets/controls",
            "_model_module_version": "1.5.0",
            "_model_name": "DescriptionStyleModel",
            "_view_count": null,
            "_view_module": "@jupyter-widgets/base",
            "_view_module_version": "1.2.0",
            "_view_name": "StyleView",
            "description_width": ""
          }
        },
        "6e2ab1f4741848ce840f97072bc616bb": {
          "model_module": "@jupyter-widgets/controls",
          "model_name": "HBoxModel",
          "model_module_version": "1.5.0",
          "state": {
            "_dom_classes": [],
            "_model_module": "@jupyter-widgets/controls",
            "_model_module_version": "1.5.0",
            "_model_name": "HBoxModel",
            "_view_count": null,
            "_view_module": "@jupyter-widgets/controls",
            "_view_module_version": "1.5.0",
            "_view_name": "HBoxView",
            "box_style": "",
            "children": [
              "IPY_MODEL_b441e7d9a49146e08918a082d379222a",
              "IPY_MODEL_6c6032c7972a4e9db3230f536767fee1",
              "IPY_MODEL_b18bb99d08424332873018859b3631b5"
            ],
            "layout": "IPY_MODEL_f90deff41e4d44c1bb05f860c473b41c"
          }
        },
        "b441e7d9a49146e08918a082d379222a": {
          "model_module": "@jupyter-widgets/controls",
          "model_name": "HTMLModel",
          "model_module_version": "1.5.0",
          "state": {
            "_dom_classes": [],
            "_model_module": "@jupyter-widgets/controls",
            "_model_module_version": "1.5.0",
            "_model_name": "HTMLModel",
            "_view_count": null,
            "_view_module": "@jupyter-widgets/controls",
            "_view_module_version": "1.5.0",
            "_view_name": "HTMLView",
            "description": "",
            "description_tooltip": null,
            "layout": "IPY_MODEL_052382fea07f4741959204e1bbed137c",
            "placeholder": "​",
            "style": "IPY_MODEL_2f1d185513344e40bbbb6ee5b6bd6bb4",
            "value": "100%"
          }
        },
        "6c6032c7972a4e9db3230f536767fee1": {
          "model_module": "@jupyter-widgets/controls",
          "model_name": "FloatProgressModel",
          "model_module_version": "1.5.0",
          "state": {
            "_dom_classes": [],
            "_model_module": "@jupyter-widgets/controls",
            "_model_module_version": "1.5.0",
            "_model_name": "FloatProgressModel",
            "_view_count": null,
            "_view_module": "@jupyter-widgets/controls",
            "_view_module_version": "1.5.0",
            "_view_name": "ProgressView",
            "bar_style": "success",
            "description": "",
            "description_tooltip": null,
            "layout": "IPY_MODEL_e357f9a93c1e4c9997df25ea35818712",
            "max": 150,
            "min": 0,
            "orientation": "horizontal",
            "style": "IPY_MODEL_21d1e676be8d40fa913357cdd27e05ac",
            "value": 150
          }
        },
        "b18bb99d08424332873018859b3631b5": {
          "model_module": "@jupyter-widgets/controls",
          "model_name": "HTMLModel",
          "model_module_version": "1.5.0",
          "state": {
            "_dom_classes": [],
            "_model_module": "@jupyter-widgets/controls",
            "_model_module_version": "1.5.0",
            "_model_name": "HTMLModel",
            "_view_count": null,
            "_view_module": "@jupyter-widgets/controls",
            "_view_module_version": "1.5.0",
            "_view_name": "HTMLView",
            "description": "",
            "description_tooltip": null,
            "layout": "IPY_MODEL_6dc4870b95d24c01a8bc1f74c3b4f118",
            "placeholder": "​",
            "style": "IPY_MODEL_4ad56aadda4d46c9bc9b56d84effdc8a",
            "value": " 150/150 [06:40&lt;00:00,  2.55s/epoch]"
          }
        },
        "f90deff41e4d44c1bb05f860c473b41c": {
          "model_module": "@jupyter-widgets/base",
          "model_name": "LayoutModel",
          "model_module_version": "1.2.0",
          "state": {
            "_model_module": "@jupyter-widgets/base",
            "_model_module_version": "1.2.0",
            "_model_name": "LayoutModel",
            "_view_count": null,
            "_view_module": "@jupyter-widgets/base",
            "_view_module_version": "1.2.0",
            "_view_name": "LayoutView",
            "align_content": null,
            "align_items": null,
            "align_self": null,
            "border": null,
            "bottom": null,
            "display": null,
            "flex": null,
            "flex_flow": null,
            "grid_area": null,
            "grid_auto_columns": null,
            "grid_auto_flow": null,
            "grid_auto_rows": null,
            "grid_column": null,
            "grid_gap": null,
            "grid_row": null,
            "grid_template_areas": null,
            "grid_template_columns": null,
            "grid_template_rows": null,
            "height": null,
            "justify_content": null,
            "justify_items": null,
            "left": null,
            "margin": null,
            "max_height": null,
            "max_width": null,
            "min_height": null,
            "min_width": null,
            "object_fit": null,
            "object_position": null,
            "order": null,
            "overflow": null,
            "overflow_x": null,
            "overflow_y": null,
            "padding": null,
            "right": null,
            "top": null,
            "visibility": null,
            "width": null
          }
        },
        "052382fea07f4741959204e1bbed137c": {
          "model_module": "@jupyter-widgets/base",
          "model_name": "LayoutModel",
          "model_module_version": "1.2.0",
          "state": {
            "_model_module": "@jupyter-widgets/base",
            "_model_module_version": "1.2.0",
            "_model_name": "LayoutModel",
            "_view_count": null,
            "_view_module": "@jupyter-widgets/base",
            "_view_module_version": "1.2.0",
            "_view_name": "LayoutView",
            "align_content": null,
            "align_items": null,
            "align_self": null,
            "border": null,
            "bottom": null,
            "display": null,
            "flex": null,
            "flex_flow": null,
            "grid_area": null,
            "grid_auto_columns": null,
            "grid_auto_flow": null,
            "grid_auto_rows": null,
            "grid_column": null,
            "grid_gap": null,
            "grid_row": null,
            "grid_template_areas": null,
            "grid_template_columns": null,
            "grid_template_rows": null,
            "height": null,
            "justify_content": null,
            "justify_items": null,
            "left": null,
            "margin": null,
            "max_height": null,
            "max_width": null,
            "min_height": null,
            "min_width": null,
            "object_fit": null,
            "object_position": null,
            "order": null,
            "overflow": null,
            "overflow_x": null,
            "overflow_y": null,
            "padding": null,
            "right": null,
            "top": null,
            "visibility": null,
            "width": null
          }
        },
        "2f1d185513344e40bbbb6ee5b6bd6bb4": {
          "model_module": "@jupyter-widgets/controls",
          "model_name": "DescriptionStyleModel",
          "model_module_version": "1.5.0",
          "state": {
            "_model_module": "@jupyter-widgets/controls",
            "_model_module_version": "1.5.0",
            "_model_name": "DescriptionStyleModel",
            "_view_count": null,
            "_view_module": "@jupyter-widgets/base",
            "_view_module_version": "1.2.0",
            "_view_name": "StyleView",
            "description_width": ""
          }
        },
        "e357f9a93c1e4c9997df25ea35818712": {
          "model_module": "@jupyter-widgets/base",
          "model_name": "LayoutModel",
          "model_module_version": "1.2.0",
          "state": {
            "_model_module": "@jupyter-widgets/base",
            "_model_module_version": "1.2.0",
            "_model_name": "LayoutModel",
            "_view_count": null,
            "_view_module": "@jupyter-widgets/base",
            "_view_module_version": "1.2.0",
            "_view_name": "LayoutView",
            "align_content": null,
            "align_items": null,
            "align_self": null,
            "border": null,
            "bottom": null,
            "display": null,
            "flex": null,
            "flex_flow": null,
            "grid_area": null,
            "grid_auto_columns": null,
            "grid_auto_flow": null,
            "grid_auto_rows": null,
            "grid_column": null,
            "grid_gap": null,
            "grid_row": null,
            "grid_template_areas": null,
            "grid_template_columns": null,
            "grid_template_rows": null,
            "height": null,
            "justify_content": null,
            "justify_items": null,
            "left": null,
            "margin": null,
            "max_height": null,
            "max_width": null,
            "min_height": null,
            "min_width": null,
            "object_fit": null,
            "object_position": null,
            "order": null,
            "overflow": null,
            "overflow_x": null,
            "overflow_y": null,
            "padding": null,
            "right": null,
            "top": null,
            "visibility": null,
            "width": null
          }
        },
        "21d1e676be8d40fa913357cdd27e05ac": {
          "model_module": "@jupyter-widgets/controls",
          "model_name": "ProgressStyleModel",
          "model_module_version": "1.5.0",
          "state": {
            "_model_module": "@jupyter-widgets/controls",
            "_model_module_version": "1.5.0",
            "_model_name": "ProgressStyleModel",
            "_view_count": null,
            "_view_module": "@jupyter-widgets/base",
            "_view_module_version": "1.2.0",
            "_view_name": "StyleView",
            "bar_color": null,
            "description_width": ""
          }
        },
        "6dc4870b95d24c01a8bc1f74c3b4f118": {
          "model_module": "@jupyter-widgets/base",
          "model_name": "LayoutModel",
          "model_module_version": "1.2.0",
          "state": {
            "_model_module": "@jupyter-widgets/base",
            "_model_module_version": "1.2.0",
            "_model_name": "LayoutModel",
            "_view_count": null,
            "_view_module": "@jupyter-widgets/base",
            "_view_module_version": "1.2.0",
            "_view_name": "LayoutView",
            "align_content": null,
            "align_items": null,
            "align_self": null,
            "border": null,
            "bottom": null,
            "display": null,
            "flex": null,
            "flex_flow": null,
            "grid_area": null,
            "grid_auto_columns": null,
            "grid_auto_flow": null,
            "grid_auto_rows": null,
            "grid_column": null,
            "grid_gap": null,
            "grid_row": null,
            "grid_template_areas": null,
            "grid_template_columns": null,
            "grid_template_rows": null,
            "height": null,
            "justify_content": null,
            "justify_items": null,
            "left": null,
            "margin": null,
            "max_height": null,
            "max_width": null,
            "min_height": null,
            "min_width": null,
            "object_fit": null,
            "object_position": null,
            "order": null,
            "overflow": null,
            "overflow_x": null,
            "overflow_y": null,
            "padding": null,
            "right": null,
            "top": null,
            "visibility": null,
            "width": null
          }
        },
        "4ad56aadda4d46c9bc9b56d84effdc8a": {
          "model_module": "@jupyter-widgets/controls",
          "model_name": "DescriptionStyleModel",
          "model_module_version": "1.5.0",
          "state": {
            "_model_module": "@jupyter-widgets/controls",
            "_model_module_version": "1.5.0",
            "_model_name": "DescriptionStyleModel",
            "_view_count": null,
            "_view_module": "@jupyter-widgets/base",
            "_view_module_version": "1.2.0",
            "_view_name": "StyleView",
            "description_width": ""
          }
        },
        "257b7e6d8e05436f850fb17d758548e4": {
          "model_module": "@jupyter-widgets/controls",
          "model_name": "HBoxModel",
          "model_module_version": "1.5.0",
          "state": {
            "_dom_classes": [],
            "_model_module": "@jupyter-widgets/controls",
            "_model_module_version": "1.5.0",
            "_model_name": "HBoxModel",
            "_view_count": null,
            "_view_module": "@jupyter-widgets/controls",
            "_view_module_version": "1.5.0",
            "_view_name": "HBoxView",
            "box_style": "",
            "children": [
              "IPY_MODEL_632795b311a44f478b0f88c3fa064610",
              "IPY_MODEL_08c5ec47de1e40328363882f99e7d59f",
              "IPY_MODEL_5cde93e178d6478294a2527b05ca7989"
            ],
            "layout": "IPY_MODEL_fbef2fe0b55a4906a7968678d3a7a5d9"
          }
        },
        "632795b311a44f478b0f88c3fa064610": {
          "model_module": "@jupyter-widgets/controls",
          "model_name": "HTMLModel",
          "model_module_version": "1.5.0",
          "state": {
            "_dom_classes": [],
            "_model_module": "@jupyter-widgets/controls",
            "_model_module_version": "1.5.0",
            "_model_name": "HTMLModel",
            "_view_count": null,
            "_view_module": "@jupyter-widgets/controls",
            "_view_module_version": "1.5.0",
            "_view_name": "HTMLView",
            "description": "",
            "description_tooltip": null,
            "layout": "IPY_MODEL_b7169457277f407795a23876485578a1",
            "placeholder": "​",
            "style": "IPY_MODEL_4931cc32535a448e8244d6277af5f84e",
            "value": "100%"
          }
        },
        "08c5ec47de1e40328363882f99e7d59f": {
          "model_module": "@jupyter-widgets/controls",
          "model_name": "FloatProgressModel",
          "model_module_version": "1.5.0",
          "state": {
            "_dom_classes": [],
            "_model_module": "@jupyter-widgets/controls",
            "_model_module_version": "1.5.0",
            "_model_name": "FloatProgressModel",
            "_view_count": null,
            "_view_module": "@jupyter-widgets/controls",
            "_view_module_version": "1.5.0",
            "_view_name": "ProgressView",
            "bar_style": "success",
            "description": "",
            "description_tooltip": null,
            "layout": "IPY_MODEL_8e2067d79df341e998518e97311616a0",
            "max": 150,
            "min": 0,
            "orientation": "horizontal",
            "style": "IPY_MODEL_4b58d03449c44035b72f108c167a48df",
            "value": 150
          }
        },
        "5cde93e178d6478294a2527b05ca7989": {
          "model_module": "@jupyter-widgets/controls",
          "model_name": "HTMLModel",
          "model_module_version": "1.5.0",
          "state": {
            "_dom_classes": [],
            "_model_module": "@jupyter-widgets/controls",
            "_model_module_version": "1.5.0",
            "_model_name": "HTMLModel",
            "_view_count": null,
            "_view_module": "@jupyter-widgets/controls",
            "_view_module_version": "1.5.0",
            "_view_name": "HTMLView",
            "description": "",
            "description_tooltip": null,
            "layout": "IPY_MODEL_5d16690eb5fd449b8f4e40a25f0f4ec4",
            "placeholder": "​",
            "style": "IPY_MODEL_31678ce9c8014a35b602ea279afe3071",
            "value": " 150/150 [06:12&lt;00:00,  2.46s/epoch]"
          }
        },
        "fbef2fe0b55a4906a7968678d3a7a5d9": {
          "model_module": "@jupyter-widgets/base",
          "model_name": "LayoutModel",
          "model_module_version": "1.2.0",
          "state": {
            "_model_module": "@jupyter-widgets/base",
            "_model_module_version": "1.2.0",
            "_model_name": "LayoutModel",
            "_view_count": null,
            "_view_module": "@jupyter-widgets/base",
            "_view_module_version": "1.2.0",
            "_view_name": "LayoutView",
            "align_content": null,
            "align_items": null,
            "align_self": null,
            "border": null,
            "bottom": null,
            "display": null,
            "flex": null,
            "flex_flow": null,
            "grid_area": null,
            "grid_auto_columns": null,
            "grid_auto_flow": null,
            "grid_auto_rows": null,
            "grid_column": null,
            "grid_gap": null,
            "grid_row": null,
            "grid_template_areas": null,
            "grid_template_columns": null,
            "grid_template_rows": null,
            "height": null,
            "justify_content": null,
            "justify_items": null,
            "left": null,
            "margin": null,
            "max_height": null,
            "max_width": null,
            "min_height": null,
            "min_width": null,
            "object_fit": null,
            "object_position": null,
            "order": null,
            "overflow": null,
            "overflow_x": null,
            "overflow_y": null,
            "padding": null,
            "right": null,
            "top": null,
            "visibility": null,
            "width": null
          }
        },
        "b7169457277f407795a23876485578a1": {
          "model_module": "@jupyter-widgets/base",
          "model_name": "LayoutModel",
          "model_module_version": "1.2.0",
          "state": {
            "_model_module": "@jupyter-widgets/base",
            "_model_module_version": "1.2.0",
            "_model_name": "LayoutModel",
            "_view_count": null,
            "_view_module": "@jupyter-widgets/base",
            "_view_module_version": "1.2.0",
            "_view_name": "LayoutView",
            "align_content": null,
            "align_items": null,
            "align_self": null,
            "border": null,
            "bottom": null,
            "display": null,
            "flex": null,
            "flex_flow": null,
            "grid_area": null,
            "grid_auto_columns": null,
            "grid_auto_flow": null,
            "grid_auto_rows": null,
            "grid_column": null,
            "grid_gap": null,
            "grid_row": null,
            "grid_template_areas": null,
            "grid_template_columns": null,
            "grid_template_rows": null,
            "height": null,
            "justify_content": null,
            "justify_items": null,
            "left": null,
            "margin": null,
            "max_height": null,
            "max_width": null,
            "min_height": null,
            "min_width": null,
            "object_fit": null,
            "object_position": null,
            "order": null,
            "overflow": null,
            "overflow_x": null,
            "overflow_y": null,
            "padding": null,
            "right": null,
            "top": null,
            "visibility": null,
            "width": null
          }
        },
        "4931cc32535a448e8244d6277af5f84e": {
          "model_module": "@jupyter-widgets/controls",
          "model_name": "DescriptionStyleModel",
          "model_module_version": "1.5.0",
          "state": {
            "_model_module": "@jupyter-widgets/controls",
            "_model_module_version": "1.5.0",
            "_model_name": "DescriptionStyleModel",
            "_view_count": null,
            "_view_module": "@jupyter-widgets/base",
            "_view_module_version": "1.2.0",
            "_view_name": "StyleView",
            "description_width": ""
          }
        },
        "8e2067d79df341e998518e97311616a0": {
          "model_module": "@jupyter-widgets/base",
          "model_name": "LayoutModel",
          "model_module_version": "1.2.0",
          "state": {
            "_model_module": "@jupyter-widgets/base",
            "_model_module_version": "1.2.0",
            "_model_name": "LayoutModel",
            "_view_count": null,
            "_view_module": "@jupyter-widgets/base",
            "_view_module_version": "1.2.0",
            "_view_name": "LayoutView",
            "align_content": null,
            "align_items": null,
            "align_self": null,
            "border": null,
            "bottom": null,
            "display": null,
            "flex": null,
            "flex_flow": null,
            "grid_area": null,
            "grid_auto_columns": null,
            "grid_auto_flow": null,
            "grid_auto_rows": null,
            "grid_column": null,
            "grid_gap": null,
            "grid_row": null,
            "grid_template_areas": null,
            "grid_template_columns": null,
            "grid_template_rows": null,
            "height": null,
            "justify_content": null,
            "justify_items": null,
            "left": null,
            "margin": null,
            "max_height": null,
            "max_width": null,
            "min_height": null,
            "min_width": null,
            "object_fit": null,
            "object_position": null,
            "order": null,
            "overflow": null,
            "overflow_x": null,
            "overflow_y": null,
            "padding": null,
            "right": null,
            "top": null,
            "visibility": null,
            "width": null
          }
        },
        "4b58d03449c44035b72f108c167a48df": {
          "model_module": "@jupyter-widgets/controls",
          "model_name": "ProgressStyleModel",
          "model_module_version": "1.5.0",
          "state": {
            "_model_module": "@jupyter-widgets/controls",
            "_model_module_version": "1.5.0",
            "_model_name": "ProgressStyleModel",
            "_view_count": null,
            "_view_module": "@jupyter-widgets/base",
            "_view_module_version": "1.2.0",
            "_view_name": "StyleView",
            "bar_color": null,
            "description_width": ""
          }
        },
        "5d16690eb5fd449b8f4e40a25f0f4ec4": {
          "model_module": "@jupyter-widgets/base",
          "model_name": "LayoutModel",
          "model_module_version": "1.2.0",
          "state": {
            "_model_module": "@jupyter-widgets/base",
            "_model_module_version": "1.2.0",
            "_model_name": "LayoutModel",
            "_view_count": null,
            "_view_module": "@jupyter-widgets/base",
            "_view_module_version": "1.2.0",
            "_view_name": "LayoutView",
            "align_content": null,
            "align_items": null,
            "align_self": null,
            "border": null,
            "bottom": null,
            "display": null,
            "flex": null,
            "flex_flow": null,
            "grid_area": null,
            "grid_auto_columns": null,
            "grid_auto_flow": null,
            "grid_auto_rows": null,
            "grid_column": null,
            "grid_gap": null,
            "grid_row": null,
            "grid_template_areas": null,
            "grid_template_columns": null,
            "grid_template_rows": null,
            "height": null,
            "justify_content": null,
            "justify_items": null,
            "left": null,
            "margin": null,
            "max_height": null,
            "max_width": null,
            "min_height": null,
            "min_width": null,
            "object_fit": null,
            "object_position": null,
            "order": null,
            "overflow": null,
            "overflow_x": null,
            "overflow_y": null,
            "padding": null,
            "right": null,
            "top": null,
            "visibility": null,
            "width": null
          }
        },
        "31678ce9c8014a35b602ea279afe3071": {
          "model_module": "@jupyter-widgets/controls",
          "model_name": "DescriptionStyleModel",
          "model_module_version": "1.5.0",
          "state": {
            "_model_module": "@jupyter-widgets/controls",
            "_model_module_version": "1.5.0",
            "_model_name": "DescriptionStyleModel",
            "_view_count": null,
            "_view_module": "@jupyter-widgets/base",
            "_view_module_version": "1.2.0",
            "_view_name": "StyleView",
            "description_width": ""
          }
        }
      }
    }
  },
  "cells": [
    {
      "cell_type": "markdown",
      "metadata": {
        "id": "view-in-github",
        "colab_type": "text"
      },
      "source": [
        "<a href=\"https://colab.research.google.com/github/Korsholm22/M4_Group_Assignments/blob/main/Group_Assignment_1.ipynb\" target=\"_parent\"><img src=\"https://colab.research.google.com/assets/colab-badge.svg\" alt=\"Open In Colab\"/></a>"
      ]
    },
    {
      "cell_type": "markdown",
      "source": [
        "#**TASK**\n",
        "- Build, train, and evaluate a neural network with Pytorch.\n",
        "- It should have minimum 2 hidden layers\n",
        "- Experiment with at least 5 different variations of hyperparameters (n layers / neurons, activation function, epochs, optimizers, learning rate etc.).\n",
        "- Use gradio to build a simple interactive demo (in the notebook)."
      ],
      "metadata": {
        "id": "Ptax2uFMtIbw"
      }
    },
    {
      "cell_type": "markdown",
      "source": [
        "This should include:\n",
        "\n",
        "1. Feature selection\n",
        "2. Feature engineering (if necessary)\n",
        "3. Standard ML preprocessing (if necessary)\n",
        "4. Train-test split.\n",
        "5. Defining a neural network architecture in putorch\n",
        "6. Define a training loop.\n",
        "7. training the model.\n",
        "8. Try out different hyperparameters.\n",
        "9. Evaluate the final model on the test data.\n",
        "10. Visualize results with Grad.io"
      ],
      "metadata": {
        "id": "JXfMCLYBtJiy"
      }
    },
    {
      "cell_type": "markdown",
      "source": [
        "# Imports"
      ],
      "metadata": {
        "id": "jDRNoaLFtQ6A"
      }
    },
    {
      "cell_type": "code",
      "source": [
        "# Pip installs\n",
        "!pip install -q gradio"
      ],
      "metadata": {
        "colab": {
          "base_uri": "https://localhost:8080/"
        },
        "id": "Joq2zwuqofIq",
        "outputId": "10745eca-6b72-4fc2-8614-0ffd68ddfe6d"
      },
      "execution_count": 1,
      "outputs": [
        {
          "output_type": "stream",
          "name": "stdout",
          "text": [
            "\u001b[2K     \u001b[90m━━━━━━━━━━━━━━━━━━━━━━━━━━━━━━━━━━━━━━━━\u001b[0m \u001b[32m14.2/14.2 MB\u001b[0m \u001b[31m43.7 MB/s\u001b[0m eta \u001b[36m0:00:00\u001b[0m\n",
            "\u001b[2K     \u001b[90m━━━━━━━━━━━━━━━━━━━━━━━━━━━━━━━━━━━━━━━\u001b[0m \u001b[32m107.0/107.0 KB\u001b[0m \u001b[31m6.0 MB/s\u001b[0m eta \u001b[36m0:00:00\u001b[0m\n",
            "\u001b[2K     \u001b[90m━━━━━━━━━━━━━━━━━━━━━━━━━━━━━━━━━━━━━━━\u001b[0m \u001b[32m140.6/140.6 KB\u001b[0m \u001b[31m4.2 MB/s\u001b[0m eta \u001b[36m0:00:00\u001b[0m\n",
            "\u001b[2K     \u001b[90m━━━━━━━━━━━━━━━━━━━━━━━━━━━━━━━━━━━━━━━━\u001b[0m \u001b[32m84.5/84.5 KB\u001b[0m \u001b[31m5.7 MB/s\u001b[0m eta \u001b[36m0:00:00\u001b[0m\n",
            "\u001b[?25h  Preparing metadata (setup.py) ... \u001b[?25l\u001b[?25hdone\n",
            "\u001b[2K     \u001b[90m━━━━━━━━━━━━━━━━━━━━━━━━━━━━━━━━━━━━━━━━\u001b[0m \u001b[32m56.9/56.9 KB\u001b[0m \u001b[31m1.8 MB/s\u001b[0m eta \u001b[36m0:00:00\u001b[0m\n",
            "\u001b[2K     \u001b[90m━━━━━━━━━━━━━━━━━━━━━━━━━━━━━━━━━━━━━━━━\u001b[0m \u001b[32m55.8/55.8 KB\u001b[0m \u001b[31m2.3 MB/s\u001b[0m eta \u001b[36m0:00:00\u001b[0m\n",
            "\u001b[2K     \u001b[90m━━━━━━━━━━━━━━━━━━━━━━━━━━━━━━━━━━━━━━━━\u001b[0m \u001b[32m2.1/2.1 MB\u001b[0m \u001b[31m24.4 MB/s\u001b[0m eta \u001b[36m0:00:00\u001b[0m\n",
            "\u001b[?25h  Preparing metadata (setup.py) ... \u001b[?25l\u001b[?25hdone\n",
            "\u001b[2K     \u001b[90m━━━━━━━━━━━━━━━━━━━━━━━━━━━━━━━━━━━━━━━━\u001b[0m \u001b[32m71.5/71.5 KB\u001b[0m \u001b[31m2.4 MB/s\u001b[0m eta \u001b[36m0:00:00\u001b[0m\n",
            "\u001b[2K     \u001b[90m━━━━━━━━━━━━━━━━━━━━━━━━━━━━━━━━━━━━━━━━\u001b[0m \u001b[32m50.5/50.5 KB\u001b[0m \u001b[31m1.9 MB/s\u001b[0m eta \u001b[36m0:00:00\u001b[0m\n",
            "\u001b[2K     \u001b[90m━━━━━━━━━━━━━━━━━━━━━━━━━━━━━━━━━━━━━━━━\u001b[0m \u001b[32m64.3/64.3 KB\u001b[0m \u001b[31m3.2 MB/s\u001b[0m eta \u001b[36m0:00:00\u001b[0m\n",
            "\u001b[2K     \u001b[90m━━━━━━━━━━━━━━━━━━━━━━━━━━━━━━━━━━━━━━━━\u001b[0m \u001b[32m80.6/80.6 KB\u001b[0m \u001b[31m5.1 MB/s\u001b[0m eta \u001b[36m0:00:00\u001b[0m\n",
            "\u001b[2K     \u001b[90m━━━━━━━━━━━━━━━━━━━━━━━━━━━━━━━━━━━━━━━━\u001b[0m \u001b[32m69.6/69.6 KB\u001b[0m \u001b[31m2.8 MB/s\u001b[0m eta \u001b[36m0:00:00\u001b[0m\n",
            "\u001b[2K     \u001b[90m━━━━━━━━━━━━━━━━━━━━━━━━━━━━━━━━━━━━━━━━\u001b[0m \u001b[32m58.3/58.3 KB\u001b[0m \u001b[31m2.6 MB/s\u001b[0m eta \u001b[36m0:00:00\u001b[0m\n",
            "\u001b[?25h  Building wheel for ffmpy (setup.py) ... \u001b[?25l\u001b[?25hdone\n",
            "  Building wheel for python-multipart (setup.py) ... \u001b[?25l\u001b[?25hdone\n"
          ]
        }
      ]
    },
    {
      "cell_type": "code",
      "execution_count": 2,
      "metadata": {
        "id": "bdcRba_RtEMU"
      },
      "outputs": [],
      "source": [
        "# Importing libraries\n",
        "import pandas as pd\n",
        "import numpy as np \n",
        "import torch\n",
        "import matplotlib.pyplot as plt\n",
        "from tqdm import tqdm_notebook\n",
        "from sklearn.metrics import r2_score, mean_squared_error\n",
        "from sklearn.model_selection import train_test_split\n",
        "from statistics import mean\n",
        "from sklearn.preprocessing import StandardScaler\n",
        "import gradio as gr"
      ]
    },
    {
      "cell_type": "code",
      "source": [
        "# Importing dataset from M1 (SML APPLICATIONS - AIRBNB PRICING)\n",
        "data = pd.read_csv('http://data.insideairbnb.com/denmark/hovedstaden/copenhagen/2022-06-24/data/listings.csv.gz')"
      ],
      "metadata": {
        "id": "Oqf-ZqTltjVD"
      },
      "execution_count": 3,
      "outputs": []
    },
    {
      "cell_type": "code",
      "source": [
        "# Examining the dataset\n",
        "data.head()"
      ],
      "metadata": {
        "colab": {
          "base_uri": "https://localhost:8080/",
          "height": 569
        },
        "id": "exjQg6N0urgw",
        "outputId": "dd9e8ac3-6da0-49c0-a25d-00f08428e197"
      },
      "execution_count": 4,
      "outputs": [
        {
          "output_type": "execute_result",
          "data": {
            "text/plain": [
              "       id                          listing_url       scrape_id last_scraped  \\\n",
              "0    6983    https://www.airbnb.com/rooms/6983  20220624204326   2022-06-25   \n",
              "1   26057   https://www.airbnb.com/rooms/26057  20220624204326   2022-06-25   \n",
              "2   26473   https://www.airbnb.com/rooms/26473  20220624204326   2022-06-25   \n",
              "3   29118   https://www.airbnb.com/rooms/29118  20220624204326   2022-06-25   \n",
              "4  670820  https://www.airbnb.com/rooms/670820  20220624204326   2022-06-25   \n",
              "\n",
              "                                        name  \\\n",
              "0                       Copenhagen 'N Livin'   \n",
              "1        Lovely house - most attractive area   \n",
              "2  City Centre Townhouse Sleeps 1-10 persons   \n",
              "3            Best Location in Cool Istedgade   \n",
              "4        1 Bedroom Apartment 5 min to Centre   \n",
              "\n",
              "                                         description  \\\n",
              "0  Lovely apartment located in the hip Nørrebro a...   \n",
              "1  Our lovely house in the center of the city is ...   \n",
              "2  GUESTHOUSE ON KNABROSTRÆDE - located in the ab...   \n",
              "3  <b>The space</b><br />The apartment is situate...   \n",
              "4  The flat is located close to the city center -...   \n",
              "\n",
              "                               neighborhood_overview  \\\n",
              "0  Nice bars and cozy cafes just minutes away, ye...   \n",
              "1  The neighborhood is the most famous one and th...   \n",
              "2                                                NaN   \n",
              "3                                                NaN   \n",
              "4  The flat is surrounded by parks and streets th...   \n",
              "\n",
              "                                         picture_url  host_id  \\\n",
              "0  https://a0.muscache.com/pictures/42044170/f63c...    16774   \n",
              "1  https://a0.muscache.com/pictures/miso/Hosting-...   109777   \n",
              "2  https://a0.muscache.com/pictures/8e132ba0-b68c...   112210   \n",
              "3  https://a0.muscache.com/pictures/b83c7003-367a...   125230   \n",
              "4  https://a0.muscache.com/pictures/91442571/8563...  1566921   \n",
              "\n",
              "                                    host_url  ... review_scores_communication  \\\n",
              "0    https://www.airbnb.com/users/show/16774  ...                        4.89   \n",
              "1   https://www.airbnb.com/users/show/109777  ...                        4.85   \n",
              "2   https://www.airbnb.com/users/show/112210  ...                        4.69   \n",
              "3   https://www.airbnb.com/users/show/125230  ...                        5.00   \n",
              "4  https://www.airbnb.com/users/show/1566921  ...                        4.88   \n",
              "\n",
              "  review_scores_location review_scores_value license instant_bookable  \\\n",
              "0                   4.72                4.70     NaN                f   \n",
              "1                   4.94                4.81     NaN                f   \n",
              "2                   4.88                4.60     NaN                f   \n",
              "3                   4.85                4.77     NaN                f   \n",
              "4                   4.88                4.25     NaN                f   \n",
              "\n",
              "  calculated_host_listings_count calculated_host_listings_count_entire_homes  \\\n",
              "0                              1                                           1   \n",
              "1                              1                                           1   \n",
              "2                             11                                           6   \n",
              "3                              1                                           1   \n",
              "4                              1                                           1   \n",
              "\n",
              "  calculated_host_listings_count_private_rooms  \\\n",
              "0                                            0   \n",
              "1                                            0   \n",
              "2                                            5   \n",
              "3                                            0   \n",
              "4                                            0   \n",
              "\n",
              "  calculated_host_listings_count_shared_rooms reviews_per_month  \n",
              "0                                           0              1.10  \n",
              "1                                           0              0.56  \n",
              "2                                           0              2.06  \n",
              "3                                           0              0.15  \n",
              "4                                           0              0.10  \n",
              "\n",
              "[5 rows x 74 columns]"
            ],
            "text/html": [
              "\n",
              "  <div id=\"df-b9c4bc55-a232-4370-8749-c9c0445a4517\">\n",
              "    <div class=\"colab-df-container\">\n",
              "      <div>\n",
              "<style scoped>\n",
              "    .dataframe tbody tr th:only-of-type {\n",
              "        vertical-align: middle;\n",
              "    }\n",
              "\n",
              "    .dataframe tbody tr th {\n",
              "        vertical-align: top;\n",
              "    }\n",
              "\n",
              "    .dataframe thead th {\n",
              "        text-align: right;\n",
              "    }\n",
              "</style>\n",
              "<table border=\"1\" class=\"dataframe\">\n",
              "  <thead>\n",
              "    <tr style=\"text-align: right;\">\n",
              "      <th></th>\n",
              "      <th>id</th>\n",
              "      <th>listing_url</th>\n",
              "      <th>scrape_id</th>\n",
              "      <th>last_scraped</th>\n",
              "      <th>name</th>\n",
              "      <th>description</th>\n",
              "      <th>neighborhood_overview</th>\n",
              "      <th>picture_url</th>\n",
              "      <th>host_id</th>\n",
              "      <th>host_url</th>\n",
              "      <th>...</th>\n",
              "      <th>review_scores_communication</th>\n",
              "      <th>review_scores_location</th>\n",
              "      <th>review_scores_value</th>\n",
              "      <th>license</th>\n",
              "      <th>instant_bookable</th>\n",
              "      <th>calculated_host_listings_count</th>\n",
              "      <th>calculated_host_listings_count_entire_homes</th>\n",
              "      <th>calculated_host_listings_count_private_rooms</th>\n",
              "      <th>calculated_host_listings_count_shared_rooms</th>\n",
              "      <th>reviews_per_month</th>\n",
              "    </tr>\n",
              "  </thead>\n",
              "  <tbody>\n",
              "    <tr>\n",
              "      <th>0</th>\n",
              "      <td>6983</td>\n",
              "      <td>https://www.airbnb.com/rooms/6983</td>\n",
              "      <td>20220624204326</td>\n",
              "      <td>2022-06-25</td>\n",
              "      <td>Copenhagen 'N Livin'</td>\n",
              "      <td>Lovely apartment located in the hip Nørrebro a...</td>\n",
              "      <td>Nice bars and cozy cafes just minutes away, ye...</td>\n",
              "      <td>https://a0.muscache.com/pictures/42044170/f63c...</td>\n",
              "      <td>16774</td>\n",
              "      <td>https://www.airbnb.com/users/show/16774</td>\n",
              "      <td>...</td>\n",
              "      <td>4.89</td>\n",
              "      <td>4.72</td>\n",
              "      <td>4.70</td>\n",
              "      <td>NaN</td>\n",
              "      <td>f</td>\n",
              "      <td>1</td>\n",
              "      <td>1</td>\n",
              "      <td>0</td>\n",
              "      <td>0</td>\n",
              "      <td>1.10</td>\n",
              "    </tr>\n",
              "    <tr>\n",
              "      <th>1</th>\n",
              "      <td>26057</td>\n",
              "      <td>https://www.airbnb.com/rooms/26057</td>\n",
              "      <td>20220624204326</td>\n",
              "      <td>2022-06-25</td>\n",
              "      <td>Lovely house - most attractive area</td>\n",
              "      <td>Our lovely house in the center of the city is ...</td>\n",
              "      <td>The neighborhood is the most famous one and th...</td>\n",
              "      <td>https://a0.muscache.com/pictures/miso/Hosting-...</td>\n",
              "      <td>109777</td>\n",
              "      <td>https://www.airbnb.com/users/show/109777</td>\n",
              "      <td>...</td>\n",
              "      <td>4.85</td>\n",
              "      <td>4.94</td>\n",
              "      <td>4.81</td>\n",
              "      <td>NaN</td>\n",
              "      <td>f</td>\n",
              "      <td>1</td>\n",
              "      <td>1</td>\n",
              "      <td>0</td>\n",
              "      <td>0</td>\n",
              "      <td>0.56</td>\n",
              "    </tr>\n",
              "    <tr>\n",
              "      <th>2</th>\n",
              "      <td>26473</td>\n",
              "      <td>https://www.airbnb.com/rooms/26473</td>\n",
              "      <td>20220624204326</td>\n",
              "      <td>2022-06-25</td>\n",
              "      <td>City Centre Townhouse Sleeps 1-10 persons</td>\n",
              "      <td>GUESTHOUSE ON KNABROSTRÆDE - located in the ab...</td>\n",
              "      <td>NaN</td>\n",
              "      <td>https://a0.muscache.com/pictures/8e132ba0-b68c...</td>\n",
              "      <td>112210</td>\n",
              "      <td>https://www.airbnb.com/users/show/112210</td>\n",
              "      <td>...</td>\n",
              "      <td>4.69</td>\n",
              "      <td>4.88</td>\n",
              "      <td>4.60</td>\n",
              "      <td>NaN</td>\n",
              "      <td>f</td>\n",
              "      <td>11</td>\n",
              "      <td>6</td>\n",
              "      <td>5</td>\n",
              "      <td>0</td>\n",
              "      <td>2.06</td>\n",
              "    </tr>\n",
              "    <tr>\n",
              "      <th>3</th>\n",
              "      <td>29118</td>\n",
              "      <td>https://www.airbnb.com/rooms/29118</td>\n",
              "      <td>20220624204326</td>\n",
              "      <td>2022-06-25</td>\n",
              "      <td>Best Location in Cool Istedgade</td>\n",
              "      <td>&lt;b&gt;The space&lt;/b&gt;&lt;br /&gt;The apartment is situate...</td>\n",
              "      <td>NaN</td>\n",
              "      <td>https://a0.muscache.com/pictures/b83c7003-367a...</td>\n",
              "      <td>125230</td>\n",
              "      <td>https://www.airbnb.com/users/show/125230</td>\n",
              "      <td>...</td>\n",
              "      <td>5.00</td>\n",
              "      <td>4.85</td>\n",
              "      <td>4.77</td>\n",
              "      <td>NaN</td>\n",
              "      <td>f</td>\n",
              "      <td>1</td>\n",
              "      <td>1</td>\n",
              "      <td>0</td>\n",
              "      <td>0</td>\n",
              "      <td>0.15</td>\n",
              "    </tr>\n",
              "    <tr>\n",
              "      <th>4</th>\n",
              "      <td>670820</td>\n",
              "      <td>https://www.airbnb.com/rooms/670820</td>\n",
              "      <td>20220624204326</td>\n",
              "      <td>2022-06-25</td>\n",
              "      <td>1 Bedroom Apartment 5 min to Centre</td>\n",
              "      <td>The flat is located close to the city center -...</td>\n",
              "      <td>The flat is surrounded by parks and streets th...</td>\n",
              "      <td>https://a0.muscache.com/pictures/91442571/8563...</td>\n",
              "      <td>1566921</td>\n",
              "      <td>https://www.airbnb.com/users/show/1566921</td>\n",
              "      <td>...</td>\n",
              "      <td>4.88</td>\n",
              "      <td>4.88</td>\n",
              "      <td>4.25</td>\n",
              "      <td>NaN</td>\n",
              "      <td>f</td>\n",
              "      <td>1</td>\n",
              "      <td>1</td>\n",
              "      <td>0</td>\n",
              "      <td>0</td>\n",
              "      <td>0.10</td>\n",
              "    </tr>\n",
              "  </tbody>\n",
              "</table>\n",
              "<p>5 rows × 74 columns</p>\n",
              "</div>\n",
              "      <button class=\"colab-df-convert\" onclick=\"convertToInteractive('df-b9c4bc55-a232-4370-8749-c9c0445a4517')\"\n",
              "              title=\"Convert this dataframe to an interactive table.\"\n",
              "              style=\"display:none;\">\n",
              "        \n",
              "  <svg xmlns=\"http://www.w3.org/2000/svg\" height=\"24px\"viewBox=\"0 0 24 24\"\n",
              "       width=\"24px\">\n",
              "    <path d=\"M0 0h24v24H0V0z\" fill=\"none\"/>\n",
              "    <path d=\"M18.56 5.44l.94 2.06.94-2.06 2.06-.94-2.06-.94-.94-2.06-.94 2.06-2.06.94zm-11 1L8.5 8.5l.94-2.06 2.06-.94-2.06-.94L8.5 2.5l-.94 2.06-2.06.94zm10 10l.94 2.06.94-2.06 2.06-.94-2.06-.94-.94-2.06-.94 2.06-2.06.94z\"/><path d=\"M17.41 7.96l-1.37-1.37c-.4-.4-.92-.59-1.43-.59-.52 0-1.04.2-1.43.59L10.3 9.45l-7.72 7.72c-.78.78-.78 2.05 0 2.83L4 21.41c.39.39.9.59 1.41.59.51 0 1.02-.2 1.41-.59l7.78-7.78 2.81-2.81c.8-.78.8-2.07 0-2.86zM5.41 20L4 18.59l7.72-7.72 1.47 1.35L5.41 20z\"/>\n",
              "  </svg>\n",
              "      </button>\n",
              "      \n",
              "  <style>\n",
              "    .colab-df-container {\n",
              "      display:flex;\n",
              "      flex-wrap:wrap;\n",
              "      gap: 12px;\n",
              "    }\n",
              "\n",
              "    .colab-df-convert {\n",
              "      background-color: #E8F0FE;\n",
              "      border: none;\n",
              "      border-radius: 50%;\n",
              "      cursor: pointer;\n",
              "      display: none;\n",
              "      fill: #1967D2;\n",
              "      height: 32px;\n",
              "      padding: 0 0 0 0;\n",
              "      width: 32px;\n",
              "    }\n",
              "\n",
              "    .colab-df-convert:hover {\n",
              "      background-color: #E2EBFA;\n",
              "      box-shadow: 0px 1px 2px rgba(60, 64, 67, 0.3), 0px 1px 3px 1px rgba(60, 64, 67, 0.15);\n",
              "      fill: #174EA6;\n",
              "    }\n",
              "\n",
              "    [theme=dark] .colab-df-convert {\n",
              "      background-color: #3B4455;\n",
              "      fill: #D2E3FC;\n",
              "    }\n",
              "\n",
              "    [theme=dark] .colab-df-convert:hover {\n",
              "      background-color: #434B5C;\n",
              "      box-shadow: 0px 1px 3px 1px rgba(0, 0, 0, 0.15);\n",
              "      filter: drop-shadow(0px 1px 2px rgba(0, 0, 0, 0.3));\n",
              "      fill: #FFFFFF;\n",
              "    }\n",
              "  </style>\n",
              "\n",
              "      <script>\n",
              "        const buttonEl =\n",
              "          document.querySelector('#df-b9c4bc55-a232-4370-8749-c9c0445a4517 button.colab-df-convert');\n",
              "        buttonEl.style.display =\n",
              "          google.colab.kernel.accessAllowed ? 'block' : 'none';\n",
              "\n",
              "        async function convertToInteractive(key) {\n",
              "          const element = document.querySelector('#df-b9c4bc55-a232-4370-8749-c9c0445a4517');\n",
              "          const dataTable =\n",
              "            await google.colab.kernel.invokeFunction('convertToInteractive',\n",
              "                                                     [key], {});\n",
              "          if (!dataTable) return;\n",
              "\n",
              "          const docLinkHtml = 'Like what you see? Visit the ' +\n",
              "            '<a target=\"_blank\" href=https://colab.research.google.com/notebooks/data_table.ipynb>data table notebook</a>'\n",
              "            + ' to learn more about interactive tables.';\n",
              "          element.innerHTML = '';\n",
              "          dataTable['output_type'] = 'display_data';\n",
              "          await google.colab.output.renderOutput(dataTable, element);\n",
              "          const docLink = document.createElement('div');\n",
              "          docLink.innerHTML = docLinkHtml;\n",
              "          element.appendChild(docLink);\n",
              "        }\n",
              "      </script>\n",
              "    </div>\n",
              "  </div>\n",
              "  "
            ]
          },
          "metadata": {},
          "execution_count": 4
        }
      ]
    },
    {
      "cell_type": "markdown",
      "source": [
        "# Preprocessing"
      ],
      "metadata": {
        "id": "YJxkgy1KtSJE"
      }
    },
    {
      "cell_type": "code",
      "source": [
        "# Converting price from an object to a float\n",
        "data['price'] = data.price.str.replace('$','')\n",
        "data['price'] = data.price.str.replace(',','')\n",
        "data['price'] = data['price'].astype('float')"
      ],
      "metadata": {
        "colab": {
          "base_uri": "https://localhost:8080/"
        },
        "id": "7FeA28ndcNmB",
        "outputId": "4c6f6694-8f02-4544-a776-b63650cdb1bc"
      },
      "execution_count": 5,
      "outputs": [
        {
          "output_type": "stream",
          "name": "stderr",
          "text": [
            "<ipython-input-5-90af22cc24d0>:2: FutureWarning: The default value of regex will change from True to False in a future version. In addition, single character regular expressions will *not* be treated as literal strings when regex=True.\n",
            "  data['price'] = data.price.str.replace('$','')\n"
          ]
        }
      ]
    },
    {
      "cell_type": "code",
      "source": [
        "# Converting instant_bookable from an object to a boolean\n",
        "mapping = {'f':False,'t':True}\n",
        "data.replace({\"instant_bookable\":mapping}, inplace=True)"
      ],
      "metadata": {
        "id": "f1PK3BeEchiM"
      },
      "execution_count": 6,
      "outputs": []
    },
    {
      "cell_type": "code",
      "source": [
        "# Keeping only airbnb's where the standard deviation of price is less than 2\n",
        "data['price_z'] = (data['price'] - data['price'].mean())/data['price'].std(ddof=0)\n",
        "data['price_z'] = data['price_z'].abs()\n",
        "data = data[data.price_z < 2]"
      ],
      "metadata": {
        "id": "_1MeU5M0dP8Z"
      },
      "execution_count": 7,
      "outputs": []
    },
    {
      "cell_type": "code",
      "source": [
        "# Keeping only airbnb's which have received 1 or more reviews in the last 30 days\n",
        "# Keeping only airbnb's which have a review score rating of 4 or more\n",
        "data = data[data.number_of_reviews_l30d >= 1]\n",
        "data = data[data.review_scores_rating >= 4]"
      ],
      "metadata": {
        "id": "hFUMEDRzdVQx"
      },
      "execution_count": 8,
      "outputs": []
    },
    {
      "cell_type": "code",
      "source": [
        "# Seleting features from the dataset to be used as inputs and output in the neural network\n",
        "selected_df = data[['instant_bookable','accommodates', 'beds', 'minimum_nights_avg_ntm', 'price']]"
      ],
      "metadata": {
        "id": "IuojYfh6dzAq"
      },
      "execution_count": 9,
      "outputs": []
    },
    {
      "cell_type": "code",
      "source": [
        "# Dropping NaN values\n",
        "selected_df = selected_df.dropna()"
      ],
      "metadata": {
        "id": "jPjDIuiLel5V"
      },
      "execution_count": 10,
      "outputs": []
    },
    {
      "cell_type": "code",
      "source": [
        "# Defining X\n",
        "X = selected_df.iloc[:,:-1]"
      ],
      "metadata": {
        "id": "okOyKxUSfssU"
      },
      "execution_count": 11,
      "outputs": []
    },
    {
      "cell_type": "code",
      "source": [
        "# Defining y\n",
        "y = selected_df.price"
      ],
      "metadata": {
        "id": "A81TWOd4gSZ1"
      },
      "execution_count": 12,
      "outputs": []
    },
    {
      "cell_type": "code",
      "source": [
        "# Scaling numerical values by instantiating the scaler, fitting it onto X and inserting the scaled values in X\n",
        "scaler = StandardScaler()\n",
        "transformed_nummerical = scaler.fit_transform(X)\n",
        "X.iloc[:,0:] = transformed_nummerical"
      ],
      "metadata": {
        "id": "iCaSBfYmimAz"
      },
      "execution_count": 13,
      "outputs": []
    },
    {
      "cell_type": "code",
      "source": [
        "# Splitting the data intro train and test sets\n",
        "X_train, X_test, y_train, y_test = train_test_split(X, y, test_size=0.2)"
      ],
      "metadata": {
        "id": "jC1h2W5LV-gS"
      },
      "execution_count": 14,
      "outputs": []
    },
    {
      "cell_type": "code",
      "source": [
        "# Converting the training and test sets to tensors\n",
        "\n",
        "# Training sets\n",
        "X_train = torch.tensor(X_train[['instant_bookable', 'accommodates', 'beds', 'minimum_nights_avg_ntm']].values.astype(np.float32))\n",
        "y_train = torch.tensor(y_train.values.astype(np.float32))\n",
        "\n",
        "# Test sets\n",
        "X_test = torch.tensor(X_test[['instant_bookable', 'accommodates', 'beds', 'minimum_nights_avg_ntm']].values.astype(np.float32))\n",
        "y_test = torch.tensor(y_test.values.astype(np.float32))"
      ],
      "metadata": {
        "id": "HEcd7o2m4yDt"
      },
      "execution_count": 15,
      "outputs": []
    },
    {
      "cell_type": "code",
      "source": [
        "# Examining the size of the tensors\n",
        "print('Training sets:')\n",
        "print(X_train.size())\n",
        "print(y_train.size())\n",
        "\n",
        "print('')\n",
        "\n",
        "print('Test sets:')\n",
        "print(X_test.size())\n",
        "print(y_test.size())"
      ],
      "metadata": {
        "colab": {
          "base_uri": "https://localhost:8080/"
        },
        "id": "REHx8l4U9S-5",
        "outputId": "7239ab3d-55dd-447a-c737-5d56f101d956"
      },
      "execution_count": 16,
      "outputs": [
        {
          "output_type": "stream",
          "name": "stdout",
          "text": [
            "Training sets:\n",
            "torch.Size([3170, 4])\n",
            "torch.Size([3170])\n",
            "\n",
            "Test sets:\n",
            "torch.Size([793, 4])\n",
            "torch.Size([793])\n"
          ]
        }
      ]
    },
    {
      "cell_type": "markdown",
      "source": [
        "# Default Network"
      ],
      "metadata": {
        "id": "VjpBXT3StUtT"
      }
    },
    {
      "cell_type": "markdown",
      "source": [
        "First, we copy/paste example 5 from 'Exercise Session 1 ANN Pytorch Solution: 5. Training ANN through Customer churn dataset with 4 inputs and 2 hidden layers' as a default model for further experimentation with hyperparameters.\n",
        "\n",
        "Based on these hyperparameters the minimal loss is: 1,901,382.375"
      ],
      "metadata": {
        "id": "YmG6DzKE4Ns2"
      }
    },
    {
      "cell_type": "code",
      "source": [
        "epochs = 50\n",
        "learning_rate = 0.01\n",
        "loss_set = {}\n",
        "\n",
        "# 1. Creating a FeedForwardNetwork\n",
        "default = torch.nn.Sequential(\n",
        "                         torch.nn.Linear(4,6),\n",
        "                         torch.nn.ReLU(),\n",
        "                         torch.nn.Linear(6,5),\n",
        "                         torch.nn.ReLU(),\n",
        "                         torch.nn.Linear(5,1),\n",
        "                         torch.nn.Sigmoid()\n",
        "                         );\n",
        "optimizer = torch.optim.RMSprop(default.parameters(), lr=learning_rate)\n",
        "loss_mse = torch.nn.MSELoss()\n",
        "\n",
        "\n",
        "for i in tqdm_notebook(range(epochs), total=epochs, unit=\"epoch\"):\n",
        "      lost_set_epoch = {}\n",
        "      j = 0\n",
        "      for x, y_t in zip(X_train, y_train):\n",
        "          output = default.forward(x.float())\n",
        "\n",
        "          # 2. FeedForward Evaluation\n",
        "          loss = loss_mse(output, y_t.float())\n",
        "          optimizer.zero_grad()\n",
        "\n",
        "          # 3. Backward / Gradient Calculation\n",
        "          loss.backward()\n",
        "\n",
        "          # 4. Back Propagation\n",
        "          optimizer.step()\n",
        "\n",
        "          # Display_loss:\n",
        "          lost_set_epoch[j] = loss\n",
        "          j = j + 1\n",
        "      \n",
        "      loss_set[i] = torch.mean(torch.stack(list(lost_set_epoch.values()))).detach().numpy()\n",
        "      if (i % 10)==0:\n",
        "         print (f\"Loss: {loss_set[i]}\")"
      ],
      "metadata": {
        "colab": {
          "base_uri": "https://localhost:8080/",
          "height": 239,
          "referenced_widgets": [
            "0ce18b4485474d49be72ddc30a560969",
            "dd0b01486fb14dddaa8c84f395ee1dff",
            "9afbe7ee372b45fdaeaa34e8ee5400a3",
            "fbee506b893c4761ac450dc1972ee902",
            "32acee045011495a866a1f6fa59ffcff",
            "2966ea5ebbcc497bac984d0240a5a3f7",
            "d485c466daef445cabc0b438341994d5",
            "520a170da8534005a7233be81489a48f",
            "6483a53f1183455999c0f7dce5c84133",
            "902ba967ec6143b4879a12e828723011",
            "8e9bd7a76634467fb44737f19dcb043e"
          ]
        },
        "id": "pgEQON0O4JtF",
        "outputId": "2e7b69a2-61b2-4b66-bb5e-02c9be4f8b49"
      },
      "execution_count": 17,
      "outputs": [
        {
          "output_type": "stream",
          "name": "stderr",
          "text": [
            "<ipython-input-17-2cba45d1cd84>:18: TqdmDeprecationWarning: This function will be removed in tqdm==5.0.0\n",
            "Please use `tqdm.notebook.tqdm` instead of `tqdm.tqdm_notebook`\n",
            "  for i in tqdm_notebook(range(epochs), total=epochs, unit=\"epoch\"):\n"
          ]
        },
        {
          "output_type": "display_data",
          "data": {
            "text/plain": [
              "  0%|          | 0/50 [00:00<?, ?epoch/s]"
            ],
            "application/vnd.jupyter.widget-view+json": {
              "version_major": 2,
              "version_minor": 0,
              "model_id": "0ce18b4485474d49be72ddc30a560969"
            }
          },
          "metadata": {}
        },
        {
          "output_type": "stream",
          "name": "stderr",
          "text": [
            "/usr/local/lib/python3.8/dist-packages/torch/nn/modules/loss.py:536: UserWarning: Using a target size (torch.Size([])) that is different to the input size (torch.Size([1])). This will likely lead to incorrect results due to broadcasting. Please ensure they have the same size.\n",
            "  return F.mse_loss(input, target, reduction=self.reduction)\n"
          ]
        },
        {
          "output_type": "stream",
          "name": "stdout",
          "text": [
            "Loss: 1901385.375\n",
            "Loss: 1901382.375\n",
            "Loss: 1901382.375\n",
            "Loss: 1901382.375\n",
            "Loss: 1901382.375\n"
          ]
        }
      ]
    },
    {
      "cell_type": "code",
      "source": [
        "# Plotting the loss function\n",
        "plt.plot(np.array(list(loss_set.values())).astype(float))\n",
        "plt.xlabel('Epochs')\n",
        "plt.ylabel('Mean Squared Error')\n",
        "plt.show()"
      ],
      "metadata": {
        "colab": {
          "base_uri": "https://localhost:8080/",
          "height": 290
        },
        "id": "7UoMorus-At5",
        "outputId": "ca672c68-7463-407a-df30-ba863bd00e09"
      },
      "execution_count": 18,
      "outputs": [
        {
          "output_type": "display_data",
          "data": {
            "text/plain": [
              "<Figure size 432x288 with 1 Axes>"
            ],
            "image/png": "[encoded data removed]"
          },
          "metadata": {
            "needs_background": "light"
          }
        }
      ]
    },
    {
      "cell_type": "markdown",
      "source": [
        "# Experiments"
      ],
      "metadata": {
        "id": "U4SYDXkZIikc"
      }
    },
    {
      "cell_type": "markdown",
      "source": [
        "Based on the following overview, we may experiment with different loss functions, optimization algorithms, activation functions, number of hidden layers, number of epochs and learning rates depending on the type of neural network and the problem being solved."
      ],
      "metadata": {
        "id": "zL7ReGJdInO5"
      }
    },
    {
      "cell_type": "markdown",
      "source": [
        "![](https://raw.github.com/Korsholm22/M4_Group_Assignments/main/Illustrations/Neural%20Network%20Overview.jpg)"
      ],
      "metadata": {
        "id": "xobdvFc4Itl-"
      }
    },
    {
      "cell_type": "markdown",
      "source": [
        "## Experiment 1: Activation Function"
      ],
      "metadata": {
        "id": "p5_DuhTw4uIl"
      }
    },
    {
      "cell_type": "markdown",
      "source": [
        "Since we are working with a regression problem (pricing of airbnb's), we change the activation function of the output layer to Identity according to the overview above.\n",
        "\n",
        "Based on these hyperparameters the minimal loss is: 329,386.71875"
      ],
      "metadata": {
        "id": "2OTiIb9vMqRE"
      }
    },
    {
      "cell_type": "markdown",
      "source": [
        "Changes compared to default network:\n",
        "\n",
        "- Output layer activation function changed to Identity"
      ],
      "metadata": {
        "id": "Es20K6qOOg-X"
      }
    },
    {
      "cell_type": "code",
      "source": [
        "epochs = 50\n",
        "learning_rate = 0.01\n",
        "loss_set = {}\n",
        "\n",
        "# 1. Creating a FeedForwardNetwork\n",
        "experiment_1 = torch.nn.Sequential(\n",
        "                         torch.nn.Linear(4,6),\n",
        "                         torch.nn.ReLU(),\n",
        "                         torch.nn.Linear(6,5),\n",
        "                         torch.nn.ReLU(),\n",
        "                         torch.nn.Linear(5,1),\n",
        "                         torch.nn.Identity()\n",
        "                         );\n",
        "optimizer = torch.optim.RMSprop(experiment_1.parameters(), lr=learning_rate)\n",
        "loss_mse = torch.nn.MSELoss()\n",
        "\n",
        "\n",
        "for i in tqdm_notebook(range(epochs), total=epochs, unit=\"epoch\"):\n",
        "      lost_set_epoch = {}\n",
        "      j = 0\n",
        "      for x, y_t in zip(X_train, y_train):\n",
        "          output = experiment_1.forward(x.float())\n",
        "\n",
        "          # 2. FeedForward Evaluation\n",
        "          loss = loss_mse(output, y_t.float())\n",
        "          optimizer.zero_grad()\n",
        "\n",
        "          # 3. Backward / Gradient Calculation\n",
        "          loss.backward()\n",
        "\n",
        "          # 4. Back Propagation\n",
        "          optimizer.step()\n",
        "\n",
        "          # Display_loss:\n",
        "          lost_set_epoch[j] = loss\n",
        "          j = j + 1\n",
        "      \n",
        "      loss_set[i] = torch.mean(torch.stack(list(lost_set_epoch.values()))).detach().numpy()\n",
        "      if (i % 10)==0:\n",
        "         print (f\"Loss: {loss_set[i]}\")"
      ],
      "metadata": {
        "colab": {
          "base_uri": "https://localhost:8080/",
          "height": 239,
          "referenced_widgets": [
            "c4f5b5010df84dc8a63c1ce91cf13151",
            "d7b611b4995f4eafac38623e49dab222",
            "8e4a42a6fb6e488aadf4f2903f20bba0",
            "113fd3ac2e884065be042e1e527eafd2",
            "928eb474b62a41c38481e54702058526",
            "38e576de0f054dcea114338110936dea",
            "4e23639e67284484a4328afe3c5a3b36",
            "875d759c6637440d9aea3cab70c14930",
            "779032fe87bf48ef9e2f6f92b23b3944",
            "f5fb43759aab4b59bd6416b4607cd475",
            "5f9d9b4771e34965b3fe729788239d36"
          ]
        },
        "id": "WEmoHGHB_BZU",
        "outputId": "f9958e1c-4155-4e7b-8bcb-aef8596311f2"
      },
      "execution_count": 19,
      "outputs": [
        {
          "output_type": "stream",
          "name": "stderr",
          "text": [
            "<ipython-input-19-59c4e6ab0def>:18: TqdmDeprecationWarning: This function will be removed in tqdm==5.0.0\n",
            "Please use `tqdm.notebook.tqdm` instead of `tqdm.tqdm_notebook`\n",
            "  for i in tqdm_notebook(range(epochs), total=epochs, unit=\"epoch\"):\n"
          ]
        },
        {
          "output_type": "display_data",
          "data": {
            "text/plain": [
              "  0%|          | 0/50 [00:00<?, ?epoch/s]"
            ],
            "application/vnd.jupyter.widget-view+json": {
              "version_major": 2,
              "version_minor": 0,
              "model_id": "c4f5b5010df84dc8a63c1ce91cf13151"
            }
          },
          "metadata": {}
        },
        {
          "output_type": "stream",
          "name": "stderr",
          "text": [
            "/usr/local/lib/python3.8/dist-packages/torch/nn/modules/loss.py:536: UserWarning: Using a target size (torch.Size([])) that is different to the input size (torch.Size([1])). This will likely lead to incorrect results due to broadcasting. Please ensure they have the same size.\n",
            "  return F.mse_loss(input, target, reduction=self.reduction)\n"
          ]
        },
        {
          "output_type": "stream",
          "name": "stdout",
          "text": [
            "Loss: 1833482.5\n",
            "Loss: 329641.4375\n",
            "Loss: 329387.375\n",
            "Loss: 329386.71875\n",
            "Loss: 329408.4375\n"
          ]
        }
      ]
    },
    {
      "cell_type": "code",
      "source": [
        "# Plotting the loss function\n",
        "plt.plot(np.array(list(loss_set.values())).astype(float))\n",
        "plt.xlabel('Epochs')\n",
        "plt.ylabel('Mean Squared Error')\n",
        "plt.show()"
      ],
      "metadata": {
        "colab": {
          "base_uri": "https://localhost:8080/",
          "height": 290
        },
        "id": "DnsMXV1Y_DxG",
        "outputId": "bbe3de13-be01-46a0-f6a8-c5f4814edd68"
      },
      "execution_count": 20,
      "outputs": [
        {
          "output_type": "display_data",
          "data": {
            "text/plain": [
              "<Figure size 432x288 with 1 Axes>"
            ],
            "image/png": "[encoded data removed]"
          },
          "metadata": {
            "needs_background": "light"
          }
        }
      ]
    },
    {
      "cell_type": "markdown",
      "source": [
        "## Experiment 2: Loss Function"
      ],
      "metadata": {
        "id": "JjyfSXeStWqp"
      }
    },
    {
      "cell_type": "markdown",
      "source": [
        "Since we are working with a regression problem, we can also use the loss function L1 for evaluating the network.\n",
        "\n",
        "Based on these hyperparameters the minimal loss is: 397.4676513671875\n"
      ],
      "metadata": {
        "id": "12ITUlSbOnsp"
      }
    },
    {
      "cell_type": "markdown",
      "source": [
        "Changes compared to default network:\n",
        "\n",
        "- Output layer activation function changed to Identity\n",
        "- Loss function changed to L1 Loss"
      ],
      "metadata": {
        "id": "AlPrhKxbOnsr"
      }
    },
    {
      "cell_type": "code",
      "source": [
        "epochs = 50\n",
        "learning_rate = 0.01\n",
        "loss_set = {}\n",
        "\n",
        "# 1. Creating a FeedForwardNetwork\n",
        "experiment_2 = torch.nn.Sequential(\n",
        "                         torch.nn.Linear(4,6),\n",
        "                         torch.nn.ReLU(),\n",
        "                         torch.nn.Linear(6,5),\n",
        "                         torch.nn.ReLU(),\n",
        "                         torch.nn.Linear(5,1),\n",
        "                         torch.nn.Identity()\n",
        "                         );\n",
        "optimizer = torch.optim.RMSprop(experiment_2.parameters(), lr=learning_rate)\n",
        "loss_l1 = torch.nn.L1Loss()\n",
        "\n",
        "\n",
        "for i in tqdm_notebook(range(epochs), total=epochs, unit=\"epoch\"):\n",
        "      lost_set_epoch = {}\n",
        "      j = 0\n",
        "      for x, y_t in zip(X_train, y_train):\n",
        "          output = experiment_2.forward(x.float())\n",
        "\n",
        "          # 2. FeedForward Evaluation\n",
        "          loss = loss_l1(output, y_t.float())\n",
        "          optimizer.zero_grad()\n",
        "\n",
        "          # 3. Backward / Gradient Calculation\n",
        "          loss.backward()\n",
        "\n",
        "          # 4. Back Propagation\n",
        "          optimizer.step()\n",
        "\n",
        "          # Display_loss:\n",
        "          lost_set_epoch[j] = loss\n",
        "          j = j + 1\n",
        "      \n",
        "      loss_set[i] = torch.mean(torch.stack(list(lost_set_epoch.values()))).detach().numpy()\n",
        "      if (i % 10)==0:\n",
        "         print (f\"Loss: {loss_set[i]}\")"
      ],
      "metadata": {
        "colab": {
          "base_uri": "https://localhost:8080/",
          "height": 239,
          "referenced_widgets": [
            "b8fdf1fff3b646b982f63a6f6956f85d",
            "d495649c72b14e3a836c414a1f362d8a",
            "81e0658d096346068e5bbd6dc3615f2f",
            "15f090dd4695419a872747d61c35999b",
            "e8062da2a9084b13872bd859ad347596",
            "f22905bd3d034e139190a4d990c61880",
            "69b9651071ff4dc090c5d8c286b31678",
            "7502d0dde69e4993bf68f52d81a4cfe0",
            "3da0c94a7eb9418fb883d7a1a2fdcdd7",
            "e9e30f725f2147d2999c8f71cfc6d313",
            "932c7fcde30445cd8c25f2a2044ba13d"
          ]
        },
        "id": "3K15ognVAKXQ",
        "outputId": "17550210-ba01-4102-e714-4225b247a718"
      },
      "execution_count": 40,
      "outputs": [
        {
          "output_type": "stream",
          "name": "stderr",
          "text": [
            "<ipython-input-40-9bff6d51a451>:18: TqdmDeprecationWarning: This function will be removed in tqdm==5.0.0\n",
            "Please use `tqdm.notebook.tqdm` instead of `tqdm.tqdm_notebook`\n",
            "  for i in tqdm_notebook(range(epochs), total=epochs, unit=\"epoch\"):\n"
          ]
        },
        {
          "output_type": "display_data",
          "data": {
            "text/plain": [
              "  0%|          | 0/50 [00:00<?, ?epoch/s]"
            ],
            "application/vnd.jupyter.widget-view+json": {
              "version_major": 2,
              "version_minor": 0,
              "model_id": "b8fdf1fff3b646b982f63a6f6956f85d"
            }
          },
          "metadata": {}
        },
        {
          "output_type": "stream",
          "name": "stderr",
          "text": [
            "/usr/local/lib/python3.8/dist-packages/torch/nn/modules/loss.py:101: UserWarning: Using a target size (torch.Size([])) that is different to the input size (torch.Size([1])). This will likely lead to incorrect results due to broadcasting. Please ensure they have the same size.\n",
            "  return F.l1_loss(input, target, reduction=self.reduction)\n"
          ]
        },
        {
          "output_type": "stream",
          "name": "stdout",
          "text": [
            "Loss: 438.8094787597656\n",
            "Loss: 398.581787109375\n",
            "Loss: 397.74591064453125\n",
            "Loss: 397.7081298828125\n",
            "Loss: 397.4676513671875\n"
          ]
        }
      ]
    },
    {
      "cell_type": "code",
      "source": [
        "# Plotting the loss function\n",
        "plt.plot(np.array(list(loss_set.values())).astype(float))\n",
        "plt.xlabel('Epochs')\n",
        "plt.ylabel('L1 Loss')\n",
        "plt.show()"
      ],
      "metadata": {
        "colab": {
          "base_uri": "https://localhost:8080/",
          "height": 279
        },
        "id": "aVEIz0C9Aqw2",
        "outputId": "bbe80fff-e857-433b-dce3-a9c800800271"
      },
      "execution_count": 22,
      "outputs": [
        {
          "output_type": "display_data",
          "data": {
            "text/plain": [
              "<Figure size 432x288 with 1 Axes>"
            ],
            "image/png": "[encoded data removed]"
          },
          "metadata": {
            "needs_background": "light"
          }
        }
      ]
    },
    {
      "cell_type": "markdown",
      "source": [
        "## Experiment 3: Hidden Layers"
      ],
      "metadata": {
        "id": "7GJR0pgCtX7K"
      }
    },
    {
      "cell_type": "markdown",
      "source": [
        "Increasing the number of hidden layers in the network may improve performance depending on the complexity of the problem being solved. We therefore try to increase the number of hidden layers from 2 to 3.\n",
        "\n",
        "Based on these hyperparameters the minimal loss is: 396.3428649902344"
      ],
      "metadata": {
        "id": "csfkusQHP-iO"
      }
    },
    {
      "cell_type": "markdown",
      "source": [
        "Changes compared to default network:\n",
        "\n",
        "- Output layer activation function changed to Identity\n",
        "- Loss function changed to L1 Loss\n",
        "- Number of hidden layers increased from 2 to 3"
      ],
      "metadata": {
        "id": "KTFfHuqQP-iP"
      }
    },
    {
      "cell_type": "code",
      "source": [
        "epochs = 50\n",
        "learning_rate = 0.01\n",
        "loss_set = {}\n",
        "\n",
        "# 1. Creating a FeedForwardNetwork\n",
        "experiment_3 = torch.nn.Sequential(\n",
        "                         torch.nn.Linear(4,6),\n",
        "                         torch.nn.ReLU(),\n",
        "                         torch.nn.Linear(6,5),\n",
        "                         torch.nn.ReLU(),\n",
        "                         torch.nn.Linear(5,8),\n",
        "                         torch.nn.ReLU(),\n",
        "                         torch.nn.Linear(8,1),\n",
        "                         torch.nn.Identity()\n",
        "                         );\n",
        "optimizer = torch.optim.RMSprop(experiment_3.parameters(), lr=learning_rate)\n",
        "loss_l1 = torch.nn.L1Loss()\n",
        "\n",
        "\n",
        "for i in tqdm_notebook(range(epochs), total=epochs, unit=\"epoch\"):\n",
        "      lost_set_epoch = {}\n",
        "      j = 0\n",
        "      for x, y_t in zip(X_train, y_train):\n",
        "          output = experiment_3.forward(x.float())\n",
        "\n",
        "          # 2. FeedForward Evaluation\n",
        "          loss = loss_l1(output, y_t.float())\n",
        "          optimizer.zero_grad()\n",
        "\n",
        "          # 3. Backward / Gradient Calculation\n",
        "          loss.backward()\n",
        "\n",
        "          # 4. Back Propagation\n",
        "          optimizer.step()\n",
        "\n",
        "          # Display_loss:\n",
        "          lost_set_epoch[j] = loss\n",
        "          j = j + 1\n",
        "      \n",
        "      loss_set[i] = torch.mean(torch.stack(list(lost_set_epoch.values()))).detach().numpy()\n",
        "      if (i % 10)==0:\n",
        "         print (f\"Loss: {loss_set[i]}\")"
      ],
      "metadata": {
        "colab": {
          "base_uri": "https://localhost:8080/",
          "height": 239,
          "referenced_widgets": [
            "ba4e6651a52f45a7b2e388225fa7fa9e",
            "473342ff656f49b0aadbd8ff161c25c6",
            "570c122b07834a129797db66f333a868",
            "945ff317fcc04f92a0e83fefd6846874",
            "7e929205b485400c99e6ce72f897d2d6",
            "b15142f4f6e242bb8ba26ed9cfe01b96",
            "6335468b9a034f72acd7a41195a4170e",
            "19965ab274cf43b7bd9c909b5cf679c8",
            "df09bcb0c8204c31ad7683d47b7a29f9",
            "135d275b2ccb4d21a3f31efdc6848f1d",
            "b688331ba0b146e192f32254f1646cae"
          ]
        },
        "id": "8BtRImEtCNlh",
        "outputId": "492891e5-b8c2-4394-f09c-491a39c87c76"
      },
      "execution_count": 23,
      "outputs": [
        {
          "output_type": "stream",
          "name": "stderr",
          "text": [
            "<ipython-input-23-29e376988c95>:20: TqdmDeprecationWarning: This function will be removed in tqdm==5.0.0\n",
            "Please use `tqdm.notebook.tqdm` instead of `tqdm.tqdm_notebook`\n",
            "  for i in tqdm_notebook(range(epochs), total=epochs, unit=\"epoch\"):\n"
          ]
        },
        {
          "output_type": "display_data",
          "data": {
            "text/plain": [
              "  0%|          | 0/50 [00:00<?, ?epoch/s]"
            ],
            "application/vnd.jupyter.widget-view+json": {
              "version_major": 2,
              "version_minor": 0,
              "model_id": "ba4e6651a52f45a7b2e388225fa7fa9e"
            }
          },
          "metadata": {}
        },
        {
          "output_type": "stream",
          "name": "stderr",
          "text": [
            "/usr/local/lib/python3.8/dist-packages/torch/nn/modules/loss.py:101: UserWarning: Using a target size (torch.Size([])) that is different to the input size (torch.Size([1])). This will likely lead to incorrect results due to broadcasting. Please ensure they have the same size.\n",
            "  return F.l1_loss(input, target, reduction=self.reduction)\n"
          ]
        },
        {
          "output_type": "stream",
          "name": "stdout",
          "text": [
            "Loss: 421.0357360839844\n",
            "Loss: 400.3419494628906\n",
            "Loss: 398.9405212402344\n",
            "Loss: 397.2891540527344\n",
            "Loss: 396.3428649902344\n"
          ]
        }
      ]
    },
    {
      "cell_type": "code",
      "source": [
        "# Plotting the loss function\n",
        "plt.plot(np.array(list(loss_set.values())).astype(float))\n",
        "plt.xlabel('Epochs')\n",
        "plt.ylabel('L1 Loss')\n",
        "plt.show()"
      ],
      "metadata": {
        "colab": {
          "base_uri": "https://localhost:8080/",
          "height": 279
        },
        "id": "ZWPT81vECbFh",
        "outputId": "0d7eb24d-a3dc-4383-96f4-04a15e34a62f"
      },
      "execution_count": 24,
      "outputs": [
        {
          "output_type": "display_data",
          "data": {
            "text/plain": [
              "<Figure size 432x288 with 1 Axes>"
            ],
            "image/png": "[encoded data removed]"
          },
          "metadata": {
            "needs_background": "light"
          }
        }
      ]
    },
    {
      "cell_type": "markdown",
      "source": [
        "## Experiment 4: Epochs"
      ],
      "metadata": {
        "id": "ZzLf7ADltY8p"
      }
    },
    {
      "cell_type": "markdown",
      "source": [
        "The number of epochs determines how many times the weights of the network are changed and the boundary goes from underfitting to optimal to overfitting. We therefore try to increase the number of epochs from 50 to 100.\n",
        "\n",
        "Based on these hyperparameters the minimal loss is: 391.3650207519531\n"
      ],
      "metadata": {
        "id": "rOCScTKbSXBe"
      }
    },
    {
      "cell_type": "markdown",
      "source": [
        "Changes compared to default network:\n",
        "\n",
        "- Output layer activation function changed to Identity\n",
        "- Loss function changed to L1 Loss\n",
        "- Number of hidden layers increased from 2 to 3\n",
        "- Number of epochs increased from 50 to 150\n"
      ],
      "metadata": {
        "id": "Z2H3hmQbSXBg"
      }
    },
    {
      "cell_type": "code",
      "source": [
        "epochs = 150\n",
        "learning_rate = 0.01\n",
        "loss_set = {}\n",
        "\n",
        "# 1. Creating a FeedForwardNetwork\n",
        "experiment_4 = torch.nn.Sequential(\n",
        "                         torch.nn.Linear(4,6),\n",
        "                         torch.nn.ReLU(),\n",
        "                         torch.nn.Linear(6,5),\n",
        "                         torch.nn.ReLU(),\n",
        "                         torch.nn.Linear(5,8),\n",
        "                         torch.nn.ReLU(),\n",
        "                         torch.nn.Linear(8,1),\n",
        "                         torch.nn.Identity()\n",
        "                         );\n",
        "optimizer = torch.optim.RMSprop(experiment_4.parameters(), lr=learning_rate)\n",
        "loss_l1 = torch.nn.L1Loss()\n",
        "\n",
        "\n",
        "for i in tqdm_notebook(range(epochs), total=epochs, unit=\"epoch\"):\n",
        "      lost_set_epoch = {}\n",
        "      j = 0\n",
        "      for x, y_t in zip(X_train, y_train):\n",
        "          output = experiment_4.forward(x.float())\n",
        "\n",
        "          # 2. FeedForward Evaluation\n",
        "          loss = loss_l1(output, y_t.float())\n",
        "          optimizer.zero_grad()\n",
        "\n",
        "          # 3. Backward / Gradient Calculation\n",
        "          loss.backward()\n",
        "\n",
        "          # 4. Back Propagation\n",
        "          optimizer.step()\n",
        "\n",
        "          # Display_loss:\n",
        "          lost_set_epoch[j] = loss\n",
        "          j = j + 1\n",
        "      \n",
        "      loss_set[i] = torch.mean(torch.stack(list(lost_set_epoch.values()))).detach().numpy()\n",
        "      if (i % 10)==0:\n",
        "         print (f\"Loss: {loss_set[i]}\")"
      ],
      "metadata": {
        "colab": {
          "base_uri": "https://localhost:8080/",
          "height": 409,
          "referenced_widgets": [
            "48fad28b4b7c49bab6ec8c85541d72c6",
            "52e94bcda675455fa5a4b0c5a29e1d1a",
            "47a96bfd0930405d910d18a3b966884f",
            "63ba2b5585b2409796f01912a67a4b88",
            "64eea280afcd47d38625918e82141d79",
            "be8bedb8cfd04f6d89ecea7d9f81ba37",
            "4b8c44ceb8bf4a5290f1d1fb9230feb3",
            "c4a4457c18af4ce78b4772e1d6c83bfa",
            "64271b12897f4569ac6ac6eeed39e0b1",
            "6d287900c8844e9381d8bd845fff4ab1",
            "692dc482749341aa987bd05dfac163e7"
          ]
        },
        "id": "Np-mV3OLHS4_",
        "outputId": "f7e71661-c339-4daa-ad87-5d56889fcfc6"
      },
      "execution_count": 25,
      "outputs": [
        {
          "output_type": "stream",
          "name": "stderr",
          "text": [
            "<ipython-input-25-fd571ffeed3d>:20: TqdmDeprecationWarning: This function will be removed in tqdm==5.0.0\n",
            "Please use `tqdm.notebook.tqdm` instead of `tqdm.tqdm_notebook`\n",
            "  for i in tqdm_notebook(range(epochs), total=epochs, unit=\"epoch\"):\n"
          ]
        },
        {
          "output_type": "display_data",
          "data": {
            "text/plain": [
              "  0%|          | 0/150 [00:00<?, ?epoch/s]"
            ],
            "application/vnd.jupyter.widget-view+json": {
              "version_major": 2,
              "version_minor": 0,
              "model_id": "48fad28b4b7c49bab6ec8c85541d72c6"
            }
          },
          "metadata": {}
        },
        {
          "output_type": "stream",
          "name": "stderr",
          "text": [
            "/usr/local/lib/python3.8/dist-packages/torch/nn/modules/loss.py:101: UserWarning: Using a target size (torch.Size([])) that is different to the input size (torch.Size([1])). This will likely lead to incorrect results due to broadcasting. Please ensure they have the same size.\n",
            "  return F.l1_loss(input, target, reduction=self.reduction)\n"
          ]
        },
        {
          "output_type": "stream",
          "name": "stdout",
          "text": [
            "Loss: 418.6780700683594\n",
            "Loss: 401.4540710449219\n",
            "Loss: 400.1495666503906\n",
            "Loss: 399.65008544921875\n",
            "Loss: 398.3292541503906\n",
            "Loss: 395.9892883300781\n",
            "Loss: 394.47723388671875\n",
            "Loss: 393.1593933105469\n",
            "Loss: 393.2121887207031\n",
            "Loss: 391.8857727050781\n",
            "Loss: 391.3650207519531\n",
            "Loss: 392.9065856933594\n",
            "Loss: 392.703857421875\n",
            "Loss: 392.2646789550781\n",
            "Loss: 392.9762268066406\n"
          ]
        }
      ]
    },
    {
      "cell_type": "code",
      "source": [
        "# Plotting the loss function\n",
        "plt.plot(np.array(list(loss_set.values())).astype(float))\n",
        "plt.xlabel('Epochs')\n",
        "plt.ylabel('L1 Loss')\n",
        "plt.show()"
      ],
      "metadata": {
        "colab": {
          "base_uri": "https://localhost:8080/",
          "height": 283
        },
        "id": "vnFImsrXIR5Q",
        "outputId": "1e562864-432f-4d53-f399-20f569158283"
      },
      "execution_count": 26,
      "outputs": [
        {
          "output_type": "display_data",
          "data": {
            "text/plain": [
              "<Figure size 432x288 with 1 Axes>"
            ],
            "image/png": "[encoded data removed]"
          },
          "metadata": {
            "needs_background": "light"
          }
        }
      ]
    },
    {
      "cell_type": "markdown",
      "source": [
        "## Experiment 5: Learning Rate"
      ],
      "metadata": {
        "id": "H70RxTIetZxY"
      }
    },
    {
      "cell_type": "markdown",
      "source": [
        "The learning rate controls how much the model is changed in response to the estimated error each time the model weights are updated. A rate too small may result in a long training process while a rate too large may result in a sub-optimal set of weights or an unstable training process. We therefore try to decrease the learning rate from 0.01 to 0.001\n",
        "\n",
        "Based on these hyperparameters the minimal loss is: 389.62481689453125"
      ],
      "metadata": {
        "id": "_uKb5h_kUqB4"
      }
    },
    {
      "cell_type": "markdown",
      "source": [
        "Changes compared to default network:\n",
        "\n",
        "- Output layer activation function changed to Identity\n",
        "- Loss function changed to L1 Loss\n",
        "- Number of hidden layers increased from 2 to 3\n",
        "- Number of epochs increased rom 50 to 150\n",
        "- Learning rate decreased from 0.01 to 0.001\n"
      ],
      "metadata": {
        "id": "D8V4Y6KcUqB6"
      }
    },
    {
      "cell_type": "code",
      "source": [
        "epochs = 150\n",
        "learning_rate = 0.001\n",
        "loss_set = {}\n",
        "\n",
        "# 1. Creating a FeedForwardNetwork\n",
        "experiment_5 = torch.nn.Sequential(\n",
        "                         torch.nn.Linear(4,6),\n",
        "                         torch.nn.ReLU(),\n",
        "                         torch.nn.Linear(6,5),\n",
        "                         torch.nn.ReLU(),\n",
        "                         torch.nn.Linear(5,8),\n",
        "                         torch.nn.ReLU(),\n",
        "                         torch.nn.Linear(8,1),\n",
        "                         torch.nn.Identity()\n",
        "                         );\n",
        "optimizer = torch.optim.RMSprop(experiment_5.parameters(), lr=learning_rate)\n",
        "loss_l1 = torch.nn.L1Loss()\n",
        "\n",
        "\n",
        "for i in tqdm_notebook(range(epochs), total=epochs, unit=\"epoch\"):\n",
        "      lost_set_epoch = {}\n",
        "      j = 0\n",
        "      for x, y_t in zip(X_train, y_train):\n",
        "          output = experiment_5.forward(x.float())\n",
        "\n",
        "          # 2. FeedForward Evaluation\n",
        "          loss = loss_l1(output, y_t.float())\n",
        "          optimizer.zero_grad()\n",
        "\n",
        "          # 3. Backward / Gradient Calculation\n",
        "          loss.backward()\n",
        "\n",
        "          # 4. Back Propagation\n",
        "          optimizer.step()\n",
        "\n",
        "          # Display_loss:\n",
        "          lost_set_epoch[j] = loss\n",
        "          j = j + 1\n",
        "      \n",
        "      loss_set[i] = torch.mean(torch.stack(list(lost_set_epoch.values()))).detach().numpy()\n",
        "      if (i % 10)==0:\n",
        "         print (f\"Loss: {loss_set[i]}\")"
      ],
      "metadata": {
        "colab": {
          "base_uri": "https://localhost:8080/",
          "height": 409,
          "referenced_widgets": [
            "6e2ab1f4741848ce840f97072bc616bb",
            "b441e7d9a49146e08918a082d379222a",
            "6c6032c7972a4e9db3230f536767fee1",
            "b18bb99d08424332873018859b3631b5",
            "f90deff41e4d44c1bb05f860c473b41c",
            "052382fea07f4741959204e1bbed137c",
            "2f1d185513344e40bbbb6ee5b6bd6bb4",
            "e357f9a93c1e4c9997df25ea35818712",
            "21d1e676be8d40fa913357cdd27e05ac",
            "6dc4870b95d24c01a8bc1f74c3b4f118",
            "4ad56aadda4d46c9bc9b56d84effdc8a"
          ]
        },
        "id": "d-A6XhBRrV76",
        "outputId": "438820ba-4675-4368-b4b6-ab8fc9a22371"
      },
      "execution_count": 27,
      "outputs": [
        {
          "output_type": "stream",
          "name": "stderr",
          "text": [
            "<ipython-input-27-29ac3d128a81>:20: TqdmDeprecationWarning: This function will be removed in tqdm==5.0.0\n",
            "Please use `tqdm.notebook.tqdm` instead of `tqdm.tqdm_notebook`\n",
            "  for i in tqdm_notebook(range(epochs), total=epochs, unit=\"epoch\"):\n"
          ]
        },
        {
          "output_type": "display_data",
          "data": {
            "text/plain": [
              "  0%|          | 0/150 [00:00<?, ?epoch/s]"
            ],
            "application/vnd.jupyter.widget-view+json": {
              "version_major": 2,
              "version_minor": 0,
              "model_id": "6e2ab1f4741848ce840f97072bc616bb"
            }
          },
          "metadata": {}
        },
        {
          "output_type": "stream",
          "name": "stderr",
          "text": [
            "/usr/local/lib/python3.8/dist-packages/torch/nn/modules/loss.py:101: UserWarning: Using a target size (torch.Size([])) that is different to the input size (torch.Size([1])). This will likely lead to incorrect results due to broadcasting. Please ensure they have the same size.\n",
            "  return F.l1_loss(input, target, reduction=self.reduction)\n"
          ]
        },
        {
          "output_type": "stream",
          "name": "stdout",
          "text": [
            "Loss: 840.4163818359375\n",
            "Loss: 394.5738830566406\n",
            "Loss: 393.3780822753906\n",
            "Loss: 392.5062255859375\n",
            "Loss: 392.04156494140625\n",
            "Loss: 391.7867126464844\n",
            "Loss: 391.4779968261719\n",
            "Loss: 391.3907775878906\n",
            "Loss: 391.08453369140625\n",
            "Loss: 390.80023193359375\n",
            "Loss: 390.52227783203125\n",
            "Loss: 390.4826354980469\n",
            "Loss: 390.0816345214844\n",
            "Loss: 389.833251953125\n",
            "Loss: 389.62481689453125\n"
          ]
        }
      ]
    },
    {
      "cell_type": "code",
      "source": [
        "# Plotting the loss function\n",
        "plt.plot(np.array(list(loss_set.values())).astype(float))\n",
        "plt.xlabel('Epochs')\n",
        "plt.ylabel('L1 Loss')\n",
        "plt.show()"
      ],
      "metadata": {
        "colab": {
          "base_uri": "https://localhost:8080/",
          "height": 279
        },
        "id": "e6JNG-WrtMjP",
        "outputId": "8384b993-f877-448e-dee3-d2ef94944fdf"
      },
      "execution_count": 28,
      "outputs": [
        {
          "output_type": "display_data",
          "data": {
            "text/plain": [
              "<Figure size 432x288 with 1 Axes>"
            ],
            "image/png": "[encoded data removed]"
          },
          "metadata": {
            "needs_background": "light"
          }
        }
      ]
    },
    {
      "cell_type": "markdown",
      "source": [
        "## Experiment 6: Loss Function"
      ],
      "metadata": {
        "id": "oqjKutKY23Op"
      }
    },
    {
      "cell_type": "markdown",
      "source": [
        "Seeing how the number of hidden layers, number of epochs and learning rate affect the loss function in experiment 2-5 above, which all used L1 Loss for evaluating the network, we try to change the loss function back to MSE to examine if these changes have the same effect when using this loss function for network evaluation.\n",
        "\n",
        "Based on these hyperparameters the minimal loss is: 328,019.75"
      ],
      "metadata": {
        "id": "JNb2eaYr64Xl"
      }
    },
    {
      "cell_type": "markdown",
      "source": [
        "Changes compared to default network:\n",
        "\n",
        "- Output layer activation function changed to Identity\n",
        "- Loss function changed back to MSE Loss\n",
        "- Number of hidden layers increased from 2 to 3\n",
        "- Number of epochs increased rom 50 to 150\n",
        "- Learning rate decreased from 0.01 to 0.001\n"
      ],
      "metadata": {
        "id": "OmnExtgt23Or"
      }
    },
    {
      "cell_type": "code",
      "source": [
        "epochs = 150\n",
        "learning_rate = 0.001\n",
        "loss_set = {}\n",
        "\n",
        "# 1. Creating a FeedForwardNetwork\n",
        "experiment_6 = torch.nn.Sequential(\n",
        "                         torch.nn.Linear(4,6),\n",
        "                         torch.nn.ReLU(),\n",
        "                         torch.nn.Linear(6,5),\n",
        "                         torch.nn.ReLU(),\n",
        "                         torch.nn.Linear(5,8),\n",
        "                         torch.nn.ReLU(),\n",
        "                         torch.nn.Linear(8,1),\n",
        "                         torch.nn.Identity()\n",
        "                         );\n",
        "optimizer = torch.optim.RMSprop(experiment_6.parameters(), lr=learning_rate)\n",
        "loss_mse = torch.nn.MSELoss()\n",
        "\n",
        "\n",
        "for i in tqdm_notebook(range(epochs), total=epochs, unit=\"epoch\"):\n",
        "      lost_set_epoch = {}\n",
        "      j = 0\n",
        "      for x, y_t in zip(X_train, y_train):\n",
        "          output = experiment_6.forward(x.float())\n",
        "\n",
        "          # 2. FeedForward Evaluation\n",
        "          loss = loss_mse(output, y_t.float())\n",
        "          optimizer.zero_grad()\n",
        "\n",
        "          # 3. Backward / Gradient Calculation\n",
        "          loss.backward()\n",
        "\n",
        "          # 4. Back Propagation\n",
        "          optimizer.step()\n",
        "\n",
        "          # Display_loss:\n",
        "          lost_set_epoch[j] = loss\n",
        "          j = j + 1\n",
        "      \n",
        "      loss_set[i] = torch.mean(torch.stack(list(lost_set_epoch.values()))).detach().numpy()\n",
        "      if (i % 10)==0:\n",
        "         print (f\"Loss: {loss_set[i]}\")"
      ],
      "metadata": {
        "colab": {
          "base_uri": "https://localhost:8080/",
          "height": 409,
          "referenced_widgets": [
            "257b7e6d8e05436f850fb17d758548e4",
            "632795b311a44f478b0f88c3fa064610",
            "08c5ec47de1e40328363882f99e7d59f",
            "5cde93e178d6478294a2527b05ca7989",
            "fbef2fe0b55a4906a7968678d3a7a5d9",
            "b7169457277f407795a23876485578a1",
            "4931cc32535a448e8244d6277af5f84e",
            "8e2067d79df341e998518e97311616a0",
            "4b58d03449c44035b72f108c167a48df",
            "5d16690eb5fd449b8f4e40a25f0f4ec4",
            "31678ce9c8014a35b602ea279afe3071"
          ]
        },
        "outputId": "37bcb755-c01a-4768-c06d-6ae1926336d2",
        "id": "KvIewAVj23Os"
      },
      "execution_count": 29,
      "outputs": [
        {
          "output_type": "stream",
          "name": "stderr",
          "text": [
            "<ipython-input-29-a190c4754df3>:20: TqdmDeprecationWarning: This function will be removed in tqdm==5.0.0\n",
            "Please use `tqdm.notebook.tqdm` instead of `tqdm.tqdm_notebook`\n",
            "  for i in tqdm_notebook(range(epochs), total=epochs, unit=\"epoch\"):\n"
          ]
        },
        {
          "output_type": "display_data",
          "data": {
            "text/plain": [
              "  0%|          | 0/150 [00:00<?, ?epoch/s]"
            ],
            "application/vnd.jupyter.widget-view+json": {
              "version_major": 2,
              "version_minor": 0,
              "model_id": "257b7e6d8e05436f850fb17d758548e4"
            }
          },
          "metadata": {}
        },
        {
          "output_type": "stream",
          "name": "stderr",
          "text": [
            "/usr/local/lib/python3.8/dist-packages/torch/nn/modules/loss.py:536: UserWarning: Using a target size (torch.Size([])) that is different to the input size (torch.Size([1])). This will likely lead to incorrect results due to broadcasting. Please ensure they have the same size.\n",
            "  return F.mse_loss(input, target, reduction=self.reduction)\n"
          ]
        },
        {
          "output_type": "stream",
          "name": "stdout",
          "text": [
            "Loss: 1182468.0\n",
            "Loss: 329101.0\n",
            "Loss: 328499.03125\n",
            "Loss: 328318.6875\n",
            "Loss: 328256.8125\n",
            "Loss: 328214.71875\n",
            "Loss: 328163.34375\n",
            "Loss: 328139.71875\n",
            "Loss: 328119.0625\n",
            "Loss: 328097.4375\n",
            "Loss: 328079.40625\n",
            "Loss: 328068.9375\n",
            "Loss: 328050.40625\n",
            "Loss: 328038.75\n",
            "Loss: 328019.75\n"
          ]
        }
      ]
    },
    {
      "cell_type": "code",
      "source": [
        "# Plotting the loss function\n",
        "plt.plot(np.array(list(loss_set.values())).astype(float))\n",
        "plt.xlabel('Epochs')\n",
        "plt.ylabel('Mean Squared Error')\n",
        "plt.show()"
      ],
      "metadata": {
        "colab": {
          "base_uri": "https://localhost:8080/",
          "height": 290
        },
        "outputId": "369ce271-ab80-4474-ca60-3c93c6ac9316",
        "id": "tLJ1Wcyk23Ou"
      },
      "execution_count": 30,
      "outputs": [
        {
          "output_type": "display_data",
          "data": {
            "text/plain": [
              "<Figure size 432x288 with 1 Axes>"
            ],
            "image/png": "[encoded data removed]"
          },
          "metadata": {
            "needs_background": "light"
          }
        }
      ]
    },
    {
      "cell_type": "markdown",
      "source": [
        "# Evaluating the Models on Test Data"
      ],
      "metadata": {
        "id": "LgMEkELOKo3T"
      }
    },
    {
      "cell_type": "code",
      "source": [
        "# Saving the trained models\n",
        "torch.save(default, 'default_model.pkl')\n",
        "torch.save(experiment_1, 'experiment_1_model.pkl')\n",
        "torch.save(experiment_2, 'experiment_2_model.pkl')\n",
        "torch.save(experiment_3, 'experiment_3_model.pkl')\n",
        "torch.save(experiment_4, 'experiment_4_model.pkl')\n",
        "torch.save(experiment_5, 'experiment_5_model.pkl')\n",
        "torch.save(experiment_6, 'experiment_6_model.pkl')"
      ],
      "metadata": {
        "id": "bsz8tWQTWLLh"
      },
      "execution_count": 41,
      "outputs": []
    },
    {
      "cell_type": "code",
      "source": [
        "# Loading the models\n",
        "default_model = torch.load('default_model.pkl')\n",
        "experiment_1_model = torch.load('experiment_1_model.pkl')\n",
        "experiment_2_model = torch.load('experiment_2_model.pkl')\n",
        "experiment_3_model = torch.load('experiment_3_model.pkl')\n",
        "experiment_4_model = torch.load('experiment_4_model.pkl')\n",
        "experiment_5_model = torch.load('experiment_5_model.pkl')\n",
        "experiment_6_model = torch.load('experiment_6_model.pkl')"
      ],
      "metadata": {
        "id": "FjiG_jPMWQkI"
      },
      "execution_count": 42,
      "outputs": []
    },
    {
      "cell_type": "code",
      "source": [
        "# Applying the models to test data\n",
        "default_test = default_model(X_test)\n",
        "experiment_1_test = experiment_1_model(X_test)\n",
        "experiment_2_test = experiment_2_model(X_test)\n",
        "experiment_3_test = experiment_3_model(X_test)\n",
        "experiment_4_test = experiment_4_model(X_test)\n",
        "experiment_5_test = experiment_5_model(X_test)\n",
        "experiment_6_test = experiment_6_model(X_test)"
      ],
      "metadata": {
        "id": "SJ19XM83WUOO"
      },
      "execution_count": 43,
      "outputs": []
    },
    {
      "cell_type": "code",
      "source": [
        "# Converting y_test and results on test data to lists in order to calculate R^2 and MSE\n",
        "y_test_list = y_test.detach().numpy()\n",
        "\n",
        "default_list = default_test.detach().numpy()\n",
        "experiment_1_list = experiment_1_test.detach().numpy()\n",
        "experiment_2_list = experiment_2_test.detach().numpy()\n",
        "experiment_3_list = experiment_3_test.detach().numpy()\n",
        "experiment_4_list = experiment_4_test.detach().numpy()\n",
        "experiment_5_list = experiment_5_test.detach().numpy()\n",
        "experiment_6_list = experiment_6_test.detach().numpy()"
      ],
      "metadata": {
        "id": "eLqvDSPu0INg"
      },
      "execution_count": 44,
      "outputs": []
    },
    {
      "cell_type": "code",
      "source": [
        "# Calculating R^2 for each model\n",
        "print('default_r2: ' + str(r2_score(y_test_list, default_list)))\n",
        "print('experiment_1_r2: ' + str(r2_score(y_test_list, experiment_1_list)))\n",
        "print('experiment_2_r2: ' + str(r2_score(y_test_list, experiment_2_list)))\n",
        "print('experiment_3_r2: ' + str(r2_score(y_test_list, experiment_3_list)))\n",
        "print('experiment_4_r2: ' + str(r2_score(y_test_list, experiment_4_list)))\n",
        "print('experiment_5_r2: ' + str(r2_score(y_test_list, experiment_5_list)))\n",
        "print('experiment_6_r2: ' + str(r2_score(y_test_list, experiment_6_list)))"
      ],
      "metadata": {
        "id": "m0EfDSBy1kjU",
        "colab": {
          "base_uri": "https://localhost:8080/"
        },
        "outputId": "623c7e36-f17c-4e80-c1f1-3fd1de7b49ac"
      },
      "execution_count": 45,
      "outputs": [
        {
          "output_type": "stream",
          "name": "stdout",
          "text": [
            "default_r2: -2.9839089766782068\n",
            "experiment_1_r2: 0.3190276204390212\n",
            "experiment_2_r2: 0.2638382191450589\n",
            "experiment_3_r2: 0.2528750388950586\n",
            "experiment_4_r2: 0.2743065688329773\n",
            "experiment_5_r2: 0.30779062791258394\n",
            "experiment_6_r2: 0.3188075242702413\n"
          ]
        }
      ]
    },
    {
      "cell_type": "code",
      "source": [
        "# Calculating MSE for each model\n",
        "print('default_mse: ' + str(mean_squared_error(y_test_list, default_list)))\n",
        "print('experiment_1_mse: ' + str(mean_squared_error(y_test_list, experiment_1_list)))\n",
        "print('experiment_2_mse: ' + str(mean_squared_error(y_test_list, experiment_2_list)))\n",
        "print('experiment_3_mse: ' + str(mean_squared_error(y_test_list, experiment_3_list)))\n",
        "print('experiment_4_mse: ' + str(mean_squared_error(y_test_list, experiment_4_list)))\n",
        "print('experiment_5_mse: ' + str(mean_squared_error(y_test_list, experiment_5_list)))\n",
        "print('experiment_6_mse: ' + str(mean_squared_error(y_test_list, experiment_6_list)))"
      ],
      "metadata": {
        "id": "u8j-OVoO5n6P",
        "colab": {
          "base_uri": "https://localhost:8080/"
        },
        "outputId": "ba0c7de0-d59c-4efc-b6f8-a86fa350e11e"
      },
      "execution_count": 46,
      "outputs": [
        {
          "output_type": "stream",
          "name": "stdout",
          "text": [
            "default_mse: 1756780.5\n",
            "experiment_1_mse: 300287.75\n",
            "experiment_2_mse: 324624.56\n",
            "experiment_3_mse: 329458.97\n",
            "experiment_4_mse: 320008.34\n",
            "experiment_5_mse: 305242.9\n",
            "experiment_6_mse: 300384.8\n"
          ]
        }
      ]
    },
    {
      "cell_type": "markdown",
      "source": [
        "# Gradio Demonstration"
      ],
      "metadata": {
        "id": "79SghfTDKrMP"
      }
    },
    {
      "cell_type": "markdown",
      "source": [
        "The best performing model from above is demonstrated using Gradio.\n",
        "\n",
        "However, if wanted, the other models can be implemented in the prediction function to be demonstrated in Gradio as well."
      ],
      "metadata": {
        "id": "twzJjOMSsUiA"
      }
    },
    {
      "cell_type": "markdown",
      "source": [
        "## Defining the prediction function"
      ],
      "metadata": {
        "id": "ibzDgFW_gw9n"
      }
    },
    {
      "cell_type": "code",
      "source": [
        "# Defining the prediction function\n",
        "\n",
        "# If wanting to demonstrate other models, change the model defined in line 6 to one of the following:\n",
        "    # default_model\n",
        "    # experiment_1_model\n",
        "    # experiment_2_model\n",
        "    # experiment_3_model\n",
        "    # experiment_4_model\n",
        "    # experiment_5_model\n",
        "    # experiment_6_model\n",
        "\n",
        "def predict(instant_bookable, accommodates, beds, minimum_nights_avg_ntm):\n",
        "  df = pd.DataFrame({'instant_bookable': instant_bookable, 'accommodates': accommodates, 'beds': beds, 'minimum_nights_avg_ntm': minimum_nights_avg_ntm}, index=[0])\n",
        "  df_scaled = scaler.transform(df)\n",
        "  df.iloc[:,0:] = df_scaled\n",
        "  input = torch.tensor(df[['instant_bookable', 'accommodates', 'beds', 'minimum_nights_avg_ntm']].values.astype(np.float32))\n",
        "  prediction = experiment_1_model(input) # Change model name here\n",
        "  return prediction"
      ],
      "metadata": {
        "id": "0rLTS-BSgjlu"
      },
      "execution_count": 47,
      "outputs": []
    },
    {
      "cell_type": "markdown",
      "source": [
        "## Creating the Gradio Interface"
      ],
      "metadata": {
        "id": "PaO5OUnBgsZE"
      }
    },
    {
      "cell_type": "code",
      "source": [
        "with gr.Blocks() as demo:\n",
        "    gr.Markdown(\"\"\"\n",
        "    **💰 Airbnb Price Prediction with Pytorch 💰**\"\"\")\n",
        "    gr.Markdown(\"\"\"\n",
        "    This demo uses Pytorch to predict the price of an Airbnb accommodation based on its bookability, number of people it accommodates, number of beds and minimum nights average. Simply put your information into the model and press the button to predict the price - Easy peasy lemon squeezy 🍋\"\"\")\n",
        "\n",
        "    with gr.Row():\n",
        "        with gr.Column():\n",
        "            instant_bookable = gr.Dropdown(\n",
        "                label=\"Instant Bookable\",\n",
        "                choices= [True, False]\n",
        "            )\n",
        "            accommodates = gr.Slider(\n",
        "                label=\"Accomodates\",\n",
        "                minimum=1,\n",
        "                maximum=20,\n",
        "                step=1\n",
        "            )\n",
        "            beds = gr.Slider(\n",
        "                label=\"Beds\",\n",
        "                minimum=1,\n",
        "                maximum=20,\n",
        "                step=1\n",
        "            )\n",
        "            minimum_nights_avg_ntm = gr.Slider(\n",
        "                label=\"Minimum Nights Avg\",\n",
        "                minimum=1,\n",
        "                maximum=31,\n",
        "                step=1\n",
        "            )\n",
        "        with gr.Column():\n",
        "            number = gr.Number()\n",
        "            with gr.Row():\n",
        "                predict_btn = gr.Button(value=\"Predict Airbnb Price 💰\")\n",
        "            predict_btn.click(\n",
        "                predict,\n",
        "                inputs=[\n",
        "                    instant_bookable,\n",
        "                    accommodates,\n",
        "                    beds,\n",
        "                    minimum_nights_avg_ntm,\n",
        "                ],\n",
        "                outputs=[number],\n",
        "            )\n",
        "\n",
        "demo.launch(share=True)"
      ],
      "metadata": {
        "colab": {
          "base_uri": "https://localhost:8080/",
          "height": 609
        },
        "id": "9rIO64nCiNft",
        "outputId": "b8cbe3b9-0948-437a-d7c5-658a56cf3895"
      },
      "execution_count": 48,
      "outputs": [
        {
          "output_type": "stream",
          "name": "stdout",
          "text": [
            "Colab notebook detected. To show errors in colab notebook, set debug=True in launch()\n",
            "Running on public URL: https://c33de952-572c-40da.gradio.live\n",
            "\n",
            "This share link expires in 72 hours. For free permanent hosting and GPU upgrades (NEW!), check out Spaces: https://huggingface.co/spaces\n"
          ]
        },
        {
          "output_type": "display_data",
          "data": {
            "text/plain": [
              "<IPython.core.display.HTML object>"
            ],
            "text/html": [
              "<div><iframe src=\"https://c33de952-572c-40da.gradio.live\" width=\"100%\" height=\"500\" allow=\"autoplay; camera; microphone; clipboard-read; clipboard-write;\" frameborder=\"0\" allowfullscreen></iframe></div>"
            ]
          },
          "metadata": {}
        },
        {
          "output_type": "execute_result",
          "data": {
            "text/plain": []
          },
          "metadata": {},
          "execution_count": 48
        }
      ]
    }
  ]
}